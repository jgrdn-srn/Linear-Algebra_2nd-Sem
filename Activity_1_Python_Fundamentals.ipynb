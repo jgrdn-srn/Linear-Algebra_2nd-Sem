{
  "nbformat": 4,
  "nbformat_minor": 0,
  "metadata": {
    "colab": {
      "name": "Activity 1 Python Fundamentals",
      "provenance": [],
      "collapsed_sections": [],
      "include_colab_link": true
    },
    "kernelspec": {
      "name": "python3",
      "display_name": "Python 3"
    },
    "language_info": {
      "name": "python"
    }
  },
  "cells": [
    {
      "cell_type": "markdown",
      "metadata": {
        "id": "view-in-github",
        "colab_type": "text"
      },
      "source": [
        "<a href=\"https://colab.research.google.com/github/jgrdn-srn/Linear-Algebra_2nd-Sem/blob/main/Activity_1_Python_Fundamentals.ipynb\" target=\"_parent\"><img src=\"https://colab.research.google.com/assets/colab-badge.svg\" alt=\"Open In Colab\"/></a>"
      ]
    },
    {
      "cell_type": "markdown",
      "source": [
        "# Welcome to Python Fundamentals\n",
        "In this module, we are going to establish or review our skills in Python programming. In this notebook we are going to cover:\n",
        "* Variables and Data Types \n",
        "* Operations\n",
        "* Input and Output Operations\n",
        "* Logic Control\n",
        "* Iterables\n",
        "* Functions\n"
      ],
      "metadata": {
        "id": "7I_vcIsFs6EN"
      }
    },
    {
      "cell_type": "markdown",
      "source": [
        "## Variable and Data Types"
      ],
      "metadata": {
        "id": "n9s7eHamtMSD"
      }
    },
    {
      "cell_type": "code",
      "source": [
        "x = 1\n",
        "a,b = 0, -1\n",
        "x"
      ],
      "metadata": {
        "colab": {
          "base_uri": "https://localhost:8080/"
        },
        "id": "ZqcWC1_Gtg8-",
        "outputId": "af0473ed-691e-408e-f26c-87c5144207d5"
      },
      "execution_count": null,
      "outputs": [
        {
          "output_type": "execute_result",
          "data": {
            "text/plain": [
              "1"
            ]
          },
          "metadata": {},
          "execution_count": 33
        }
      ]
    },
    {
      "cell_type": "markdown",
      "source": [
        "Integers are positive and negative whole numbers that are non-fractional, it also include zero.\n",
        "\n",
        "The type() function identifies what data type the variable is."
      ],
      "metadata": {
        "id": "4aeUnawQuxve"
      }
    },
    {
      "cell_type": "code",
      "source": [
        "type(x)"
      ],
      "metadata": {
        "colab": {
          "base_uri": "https://localhost:8080/"
        },
        "id": "BKtBXnNQvDd6",
        "outputId": "8d29cc5d-bba9-491d-f52f-d7370fa89b84"
      },
      "execution_count": null,
      "outputs": [
        {
          "output_type": "execute_result",
          "data": {
            "text/plain": [
              "int"
            ]
          },
          "metadata": {},
          "execution_count": 5
        }
      ]
    },
    {
      "cell_type": "code",
      "source": [
        "y = 1.0\n",
        "type(y)"
      ],
      "metadata": {
        "colab": {
          "base_uri": "https://localhost:8080/"
        },
        "id": "aoWD6sb5va8J",
        "outputId": "ff06e474-0e01-4d36-c202-f84b88912482"
      },
      "execution_count": null,
      "outputs": [
        {
          "output_type": "execute_result",
          "data": {
            "text/plain": [
              "float"
            ]
          },
          "metadata": {},
          "execution_count": 6
        }
      ]
    },
    {
      "cell_type": "markdown",
      "source": [
        "Float is a numerical data type that include positive and negative real numbers that has a decimal point."
      ],
      "metadata": {
        "id": "zKEkHK3Bz4Pq"
      }
    },
    {
      "cell_type": "code",
      "source": [
        "x = float(x)\n",
        "x"
      ],
      "metadata": {
        "colab": {
          "base_uri": "https://localhost:8080/"
        },
        "id": "zZ8_WDWCvzAb",
        "outputId": "8c18bec5-365b-497e-8ffa-c22a4eb8bfcd"
      },
      "execution_count": null,
      "outputs": [
        {
          "output_type": "execute_result",
          "data": {
            "text/plain": [
              "1.0"
            ]
          },
          "metadata": {},
          "execution_count": 8
        }
      ]
    },
    {
      "cell_type": "code",
      "source": [
        "x = int(x)\n",
        "x"
      ],
      "metadata": {
        "colab": {
          "base_uri": "https://localhost:8080/"
        },
        "id": "n7CYER5uwPoR",
        "outputId": "a213db75-9cf0-47b8-f100-8f64f8ad62aa"
      },
      "execution_count": null,
      "outputs": [
        {
          "output_type": "execute_result",
          "data": {
            "text/plain": [
              "1"
            ]
          },
          "metadata": {},
          "execution_count": 9
        }
      ]
    },
    {
      "cell_type": "markdown",
      "source": [
        "The float() and int() functions convert the variables into float and integer data types respectively. "
      ],
      "metadata": {
        "id": "BNAMPRw5wBPx"
      }
    },
    {
      "cell_type": "code",
      "source": [
        "x = float(x)\n",
        "type(x)"
      ],
      "metadata": {
        "colab": {
          "base_uri": "https://localhost:8080/"
        },
        "id": "ruGhElkqvg1O",
        "outputId": "bfdd7995-e7c2-4331-ea8c-996a95b34ea9"
      },
      "execution_count": null,
      "outputs": [
        {
          "output_type": "execute_result",
          "data": {
            "text/plain": [
              "float"
            ]
          },
          "metadata": {},
          "execution_count": 7
        }
      ]
    },
    {
      "cell_type": "code",
      "source": [
        "s,t,u = \"0\", '1', 'one'\n",
        "type(t)"
      ],
      "metadata": {
        "colab": {
          "base_uri": "https://localhost:8080/"
        },
        "id": "FSsABnkzwvsI",
        "outputId": "089fafe1-7ec7-4600-f523-f20405f5fa73"
      },
      "execution_count": null,
      "outputs": [
        {
          "output_type": "execute_result",
          "data": {
            "text/plain": [
              "str"
            ]
          },
          "metadata": {},
          "execution_count": 11
        }
      ]
    },
    {
      "cell_type": "code",
      "source": [
        "s_int = int(s)\n",
        "s_int"
      ],
      "metadata": {
        "colab": {
          "base_uri": "https://localhost:8080/"
        },
        "id": "frlXZgnoxNwl",
        "outputId": "b19e7604-1ad0-4933-9bd5-64ef5523ba71"
      },
      "execution_count": null,
      "outputs": [
        {
          "output_type": "execute_result",
          "data": {
            "text/plain": [
              "0"
            ]
          },
          "metadata": {},
          "execution_count": 12
        }
      ]
    },
    {
      "cell_type": "markdown",
      "source": [
        "The single and double apostrophe registers the text inside them as string data types.\n",
        "\n",
        "\n",
        "A string is an immutable sequence data type. It is a collection of characters inside single, double or triple apostrophes."
      ],
      "metadata": {
        "id": "MkUrWssswRcb"
      }
    },
    {
      "cell_type": "markdown",
      "source": [
        "##Operations"
      ],
      "metadata": {
        "id": "9xi2b18ZyFub"
      }
    },
    {
      "cell_type": "markdown",
      "source": [
        "###Arithmetic\n"
      ],
      "metadata": {
        "id": "DsrQiRBbyNsY"
      }
    },
    {
      "cell_type": "code",
      "source": [
        "a,b,c,d = 2.0, -0.5, 0, -32"
      ],
      "metadata": {
        "id": "vbpzeZsxyQWl"
      },
      "execution_count": null,
      "outputs": []
    },
    {
      "cell_type": "code",
      "source": [
        "### Addition\n",
        "s = a+b\n",
        "s"
      ],
      "metadata": {
        "colab": {
          "base_uri": "https://localhost:8080/"
        },
        "id": "bMfXhjqhyYr8",
        "outputId": "621c611b-3d93-40a7-f109-79e63264d9cb"
      },
      "execution_count": null,
      "outputs": [
        {
          "output_type": "execute_result",
          "data": {
            "text/plain": [
              "1.5"
            ]
          },
          "metadata": {},
          "execution_count": 15
        }
      ]
    },
    {
      "cell_type": "code",
      "source": [
        "### Subtraction\n",
        "D = b-d \n",
        "D"
      ],
      "metadata": {
        "colab": {
          "base_uri": "https://localhost:8080/"
        },
        "id": "0xUlUH6hzVkr",
        "outputId": "9899f5e6-54db-45cc-c30a-84c9a27e82bc"
      },
      "execution_count": null,
      "outputs": [
        {
          "output_type": "execute_result",
          "data": {
            "text/plain": [
              "31.5"
            ]
          },
          "metadata": {},
          "execution_count": 16
        }
      ]
    },
    {
      "cell_type": "code",
      "source": [
        "### Multiplication\n",
        "P = a*d\n",
        "P"
      ],
      "metadata": {
        "colab": {
          "base_uri": "https://localhost:8080/"
        },
        "id": "FQWYxo2nzea9",
        "outputId": "cac2a8d2-9bc1-4459-f74a-3d04bcb1d02d"
      },
      "execution_count": null,
      "outputs": [
        {
          "output_type": "execute_result",
          "data": {
            "text/plain": [
              "-64.0"
            ]
          },
          "metadata": {},
          "execution_count": 17
        }
      ]
    },
    {
      "cell_type": "code",
      "source": [
        "### Division\n",
        "Q = c/a\n",
        "Q"
      ],
      "metadata": {
        "colab": {
          "base_uri": "https://localhost:8080/"
        },
        "id": "nE0uzYQIzofK",
        "outputId": "6e6fb1f1-c2ab-4e74-af06-f52c02347d39"
      },
      "execution_count": null,
      "outputs": [
        {
          "output_type": "execute_result",
          "data": {
            "text/plain": [
              "0.0"
            ]
          },
          "metadata": {},
          "execution_count": 18
        }
      ]
    },
    {
      "cell_type": "markdown",
      "source": [
        "These are simple mathematical operations that can be used on numerical data types. The addition operation (+) computes the sum of two or more numbers. Subtraction (-) calculates the difference. Multiplication, denoted by an asterisk (*) is used to get the product, and division denoted by a slash (/) is used to divide or get the quotient of two numbers."
      ],
      "metadata": {
        "id": "6bj00cbXxJgC"
      }
    },
    {
      "cell_type": "code",
      "source": [
        "sar = 9.8\n",
        "sab = 10.8"
      ],
      "metadata": {
        "id": "Hz-zpBl6Vnmp"
      },
      "execution_count": null,
      "outputs": []
    },
    {
      "cell_type": "code",
      "source": [
        "### Floor Division\n",
        "Fq = sab//sar\n",
        "Fq"
      ],
      "metadata": {
        "colab": {
          "base_uri": "https://localhost:8080/"
        },
        "id": "xfdH8zGPzvvk",
        "outputId": "7b789ff9-17f0-4df3-f91e-35bb5577c9d8"
      },
      "execution_count": null,
      "outputs": [
        {
          "output_type": "execute_result",
          "data": {
            "text/plain": [
              "1.0"
            ]
          },
          "metadata": {},
          "execution_count": 15
        }
      ]
    },
    {
      "cell_type": "code",
      "source": [
        "### Exponentiation\n",
        "E = sab**sar\n",
        "E"
      ],
      "metadata": {
        "colab": {
          "base_uri": "https://localhost:8080/"
        },
        "id": "vVCpYkDs0hAf",
        "outputId": "f8a61fca-ae06-4915-ad5e-1489fb31b9f4"
      },
      "execution_count": null,
      "outputs": [
        {
          "output_type": "execute_result",
          "data": {
            "text/plain": [
              "13413830177.846376"
            ]
          },
          "metadata": {},
          "execution_count": 16
        }
      ]
    },
    {
      "cell_type": "code",
      "source": [
        "### Modulo\n",
        "mod = sab%sar\n",
        "mod"
      ],
      "metadata": {
        "colab": {
          "base_uri": "https://localhost:8080/"
        },
        "id": "xGFwkqNI00W8",
        "outputId": "2d849447-7474-487b-95ab-ed3a1e098c0c"
      },
      "execution_count": null,
      "outputs": [
        {
          "output_type": "execute_result",
          "data": {
            "text/plain": [
              "1.0"
            ]
          },
          "metadata": {},
          "execution_count": 17
        }
      ]
    },
    {
      "cell_type": "markdown",
      "source": [
        "Floor division is a variation of simple division that rounds the quotient to a whole number."
      ],
      "metadata": {
        "id": "REafIN4vxmNT"
      }
    },
    {
      "cell_type": "markdown",
      "source": [
        "Exponentiation is a mathematical expression that raises a certain number to a power of a certain value."
      ],
      "metadata": {
        "id": "xMxv8tcxxxLd"
      }
    },
    {
      "cell_type": "markdown",
      "source": [
        "Modulo is another special type of operation that is under division, modulo denoted by a percent sign (%) divides two numbers and calculates the remainder."
      ],
      "metadata": {
        "id": "w4tGbqD1yB0Q"
      }
    },
    {
      "cell_type": "markdown",
      "source": [
        "###Assignment Operations"
      ],
      "metadata": {
        "id": "zezDpDQo1jWQ"
      }
    },
    {
      "cell_type": "code",
      "source": [
        "G, H, J, K = 0, 100, 2, 3"
      ],
      "metadata": {
        "id": "rKZXCTUS1ndJ"
      },
      "execution_count": null,
      "outputs": []
    },
    {
      "cell_type": "code",
      "source": [
        "G += a\n",
        "G"
      ],
      "metadata": {
        "colab": {
          "base_uri": "https://localhost:8080/"
        },
        "id": "LW_vBBzC1xwa",
        "outputId": "5be3059b-5391-4a17-d328-f28311de7459"
      },
      "execution_count": null,
      "outputs": [
        {
          "output_type": "execute_result",
          "data": {
            "text/plain": [
              "4.0"
            ]
          },
          "metadata": {},
          "execution_count": 16
        }
      ]
    },
    {
      "cell_type": "code",
      "source": [
        "H -= d\n",
        "H"
      ],
      "metadata": {
        "colab": {
          "base_uri": "https://localhost:8080/"
        },
        "id": "tUitXymu2eLu",
        "outputId": "42fc9de7-32bf-4231-b3ae-dcbb52a2f59f"
      },
      "execution_count": null,
      "outputs": [
        {
          "output_type": "execute_result",
          "data": {
            "text/plain": [
              "196"
            ]
          },
          "metadata": {},
          "execution_count": 19
        }
      ]
    },
    {
      "cell_type": "markdown",
      "source": [
        "Increment is the continuous addition of a number (by itself or assigned to a variable) to another number. The sum is saved and the increment continuous. "
      ],
      "metadata": {
        "id": "NjgYNOdS00d3"
      }
    },
    {
      "cell_type": "markdown",
      "source": [
        "Decrement is the continuous subtraction of a certain number from another number."
      ],
      "metadata": {
        "id": "Hq7rDl402DC_"
      }
    },
    {
      "cell_type": "code",
      "source": [
        "J *= 2\n",
        "J"
      ],
      "metadata": {
        "colab": {
          "base_uri": "https://localhost:8080/"
        },
        "id": "CpfJzhnp24e2",
        "outputId": "e14b1ee6-4eb9-4322-a269-6a227a3df3cd"
      },
      "execution_count": null,
      "outputs": [
        {
          "output_type": "execute_result",
          "data": {
            "text/plain": [
              "16"
            ]
          },
          "metadata": {},
          "execution_count": 22
        }
      ]
    },
    {
      "cell_type": "code",
      "source": [
        "K **= 2\n",
        "K"
      ],
      "metadata": {
        "colab": {
          "base_uri": "https://localhost:8080/"
        },
        "id": "EmkNnLm_3L2J",
        "outputId": "19738931-30f7-41e8-c64b-a97677eb5e5c"
      },
      "execution_count": null,
      "outputs": [
        {
          "output_type": "execute_result",
          "data": {
            "text/plain": [
              "6561"
            ]
          },
          "metadata": {},
          "execution_count": 25
        }
      ]
    },
    {
      "cell_type": "markdown",
      "source": [
        "A multiplier continuously multiplies a number with a specified number."
      ],
      "metadata": {
        "id": "_lHrhwx82t8c"
      }
    },
    {
      "cell_type": "markdown",
      "source": [
        "An exponential continuously raises a number to a certain power."
      ],
      "metadata": {
        "id": "AifRgvUn259m"
      }
    },
    {
      "cell_type": "markdown",
      "source": [
        "### Comparators"
      ],
      "metadata": {
        "id": "0KrhW0zE3Y94"
      }
    },
    {
      "cell_type": "code",
      "source": [
        "res_1, res_2, res_3 = 1, 2.0, \"1\"\n",
        "true_val = 1.0"
      ],
      "metadata": {
        "id": "ANjW071Q3bpz"
      },
      "execution_count": null,
      "outputs": []
    },
    {
      "cell_type": "code",
      "source": [
        "## Equality\n",
        "res_1 == true_val"
      ],
      "metadata": {
        "colab": {
          "base_uri": "https://localhost:8080/"
        },
        "id": "2dW06niX3nXU",
        "outputId": "c59491b6-d037-45ab-d3be-500ae21339da"
      },
      "execution_count": null,
      "outputs": [
        {
          "output_type": "execute_result",
          "data": {
            "text/plain": [
              "True"
            ]
          },
          "metadata": {},
          "execution_count": 41
        }
      ]
    },
    {
      "cell_type": "code",
      "source": [
        "## Non Equality\n",
        "res_2 != true_val"
      ],
      "metadata": {
        "colab": {
          "base_uri": "https://localhost:8080/"
        },
        "id": "zeGtYBxG3wGK",
        "outputId": "a95694f6-b737-4989-b6df-676bd7ba6c26"
      },
      "execution_count": null,
      "outputs": [
        {
          "output_type": "execute_result",
          "data": {
            "text/plain": [
              "True"
            ]
          },
          "metadata": {},
          "execution_count": 42
        }
      ]
    },
    {
      "cell_type": "code",
      "source": [
        "## Inequality\n",
        "t1 = res_1 > res_2\n",
        "t2 = res_1 < res_2/2\n",
        "t3 = res_1 >= res_2/2\n",
        "t4 = res_1 <= res_2\n",
        "t4"
      ],
      "metadata": {
        "colab": {
          "base_uri": "https://localhost:8080/"
        },
        "id": "G9EXTCWg37Fb",
        "outputId": "0048b8b9-9f5d-4a82-ca7c-a8d35159374c"
      },
      "execution_count": null,
      "outputs": [
        {
          "output_type": "execute_result",
          "data": {
            "text/plain": [
              "True"
            ]
          },
          "metadata": {},
          "execution_count": 49
        }
      ]
    },
    {
      "cell_type": "markdown",
      "source": [
        "Comparators from the name itself compare values and cocnlude if they are true or false."
      ],
      "metadata": {
        "id": "v5t815DVykhU"
      }
    },
    {
      "cell_type": "markdown",
      "source": [
        "The equality symbol is double equal sign (==) this checks if two values are the same. It says true if they are the same and false if they are not."
      ],
      "metadata": {
        "id": "CR1xMKu8yzaX"
      }
    },
    {
      "cell_type": "markdown",
      "source": [
        "Non Equality is denoted by the exclamation mark and equal sign(!=). It show true if two variables are not the same and false if it is the same."
      ],
      "metadata": {
        "id": "z5u-5KyPzMPl"
      }
    },
    {
      "cell_type": "markdown",
      "source": [
        "Inequalities check if variables are less than, greater than, less than or equal to and greater than or equal to. If the conditions are met it shows true and false if not."
      ],
      "metadata": {
        "id": "IHOnkazCzgil"
      }
    },
    {
      "cell_type": "markdown",
      "source": [
        "### Logical"
      ],
      "metadata": {
        "id": "QAIZWtDR5S1i"
      }
    },
    {
      "cell_type": "markdown",
      "source": [
        "Logical operators use the is, and, or, not operations to connect two or more expressions and analyze the value of the compound expression."
      ],
      "metadata": {
        "id": "pj-JtTYEz7C1"
      }
    },
    {
      "cell_type": "markdown",
      "source": [
        "Is operator verifies if two variables are identical. It is true if they are identical."
      ],
      "metadata": {
        "id": "Xbsa8xDR00CE"
      }
    },
    {
      "cell_type": "markdown",
      "source": [
        "Is not operator is true when two values are not identical."
      ],
      "metadata": {
        "id": "oAAkJJpi6Otw"
      }
    },
    {
      "cell_type": "markdown",
      "source": [
        "And operator is true when both statements are true and it is false otherwise."
      ],
      "metadata": {
        "id": "DwFrFkrjI50T"
      }
    },
    {
      "cell_type": "markdown",
      "source": [
        "Or operator is true if one or both statements is true. In an occurence that both are false, then the or statement is false. "
      ],
      "metadata": {
        "id": "GJ9JimIfJE0l"
      }
    },
    {
      "cell_type": "code",
      "source": [
        "res_1 == true_val"
      ],
      "metadata": {
        "colab": {
          "base_uri": "https://localhost:8080/"
        },
        "id": "8kj-CQSy5VFp",
        "outputId": "a0d659e4-3395-4d06-a9d0-f24b7b3c1bba"
      },
      "execution_count": null,
      "outputs": [
        {
          "output_type": "execute_result",
          "data": {
            "text/plain": [
              "True"
            ]
          },
          "metadata": {},
          "execution_count": 50
        }
      ]
    },
    {
      "cell_type": "code",
      "source": [
        "res_1 is true_val "
      ],
      "metadata": {
        "colab": {
          "base_uri": "https://localhost:8080/"
        },
        "id": "2sN4sA_I5l46",
        "outputId": "e182d8f3-ddd9-4a14-c328-d87946696245"
      },
      "execution_count": null,
      "outputs": [
        {
          "output_type": "execute_result",
          "data": {
            "text/plain": [
              "False"
            ]
          },
          "metadata": {},
          "execution_count": 51
        }
      ]
    },
    {
      "cell_type": "code",
      "source": [
        "res_1 is not true_val"
      ],
      "metadata": {
        "colab": {
          "base_uri": "https://localhost:8080/"
        },
        "id": "sB9mO-kB5rMM",
        "outputId": "2397ba53-31e7-41da-db84-20e64d0e9bb6"
      },
      "execution_count": null,
      "outputs": [
        {
          "output_type": "execute_result",
          "data": {
            "text/plain": [
              "True"
            ]
          },
          "metadata": {},
          "execution_count": 52
        }
      ]
    },
    {
      "cell_type": "code",
      "source": [
        "p, q = True, False\n",
        "conj = p and q\n",
        "conj"
      ],
      "metadata": {
        "colab": {
          "base_uri": "https://localhost:8080/"
        },
        "id": "ZlQzo9UE5uts",
        "outputId": "fe54587f-8b1b-4011-993d-5bd84b92203f"
      },
      "execution_count": null,
      "outputs": [
        {
          "output_type": "execute_result",
          "data": {
            "text/plain": [
              "False"
            ]
          },
          "metadata": {},
          "execution_count": 53
        }
      ]
    },
    {
      "cell_type": "code",
      "source": [
        "p, q = True, False\n",
        "disj = p or q\n",
        "disj"
      ],
      "metadata": {
        "colab": {
          "base_uri": "https://localhost:8080/"
        },
        "id": "cD37YstS7Fih",
        "outputId": "74738771-54e8-49c2-e9b9-7f85a21a2e35"
      },
      "execution_count": null,
      "outputs": [
        {
          "output_type": "execute_result",
          "data": {
            "text/plain": [
              "True"
            ]
          },
          "metadata": {},
          "execution_count": 54
        }
      ]
    },
    {
      "cell_type": "code",
      "source": [
        "p, q = True, False\n",
        "nand = not(p and q)\n",
        "nand"
      ],
      "metadata": {
        "colab": {
          "base_uri": "https://localhost:8080/"
        },
        "id": "LedxAxPM7SkB",
        "outputId": "67ef1980-d9b4-4f9d-9fc7-b685f122afe6"
      },
      "execution_count": null,
      "outputs": [
        {
          "output_type": "execute_result",
          "data": {
            "text/plain": [
              "True"
            ]
          },
          "metadata": {},
          "execution_count": 55
        }
      ]
    },
    {
      "cell_type": "code",
      "source": [
        "p, q = True, False\n",
        "xor = (not p and q) or (p and not q)\n",
        "xor"
      ],
      "metadata": {
        "colab": {
          "base_uri": "https://localhost:8080/"
        },
        "id": "IUWKlMmR7q2K",
        "outputId": "64530e70-e1e7-4f8c-c8cf-0a9b2b4493cd"
      },
      "execution_count": null,
      "outputs": [
        {
          "output_type": "execute_result",
          "data": {
            "text/plain": [
              "True"
            ]
          },
          "metadata": {},
          "execution_count": 56
        }
      ]
    },
    {
      "cell_type": "markdown",
      "source": [
        "### I/O"
      ],
      "metadata": {
        "id": "BPnag4WR73yQ"
      }
    },
    {
      "cell_type": "markdown",
      "source": [
        "Print is an output function that displays what is inside the parentheses. You can call out variables and insert strings inside the print function."
      ],
      "metadata": {
        "id": "Ma63GOeKLh_Z"
      }
    },
    {
      "cell_type": "code",
      "source": [
        "print(\"Hello World\")"
      ],
      "metadata": {
        "colab": {
          "base_uri": "https://localhost:8080/"
        },
        "id": "9z2vxHPy759M",
        "outputId": "b7cd6513-690a-49e3-ed88-12e8ee80e9bc"
      },
      "execution_count": null,
      "outputs": [
        {
          "output_type": "stream",
          "name": "stdout",
          "text": [
            "Hello World\n"
          ]
        }
      ]
    },
    {
      "cell_type": "code",
      "source": [
        "cnt = 1"
      ],
      "metadata": {
        "id": "bM47SNtn8FTh"
      },
      "execution_count": null,
      "outputs": []
    },
    {
      "cell_type": "code",
      "source": [
        "string = \"Hello World\"\n",
        "print(string, \", Current run count is: \", cnt)\n",
        "cnt += 1"
      ],
      "metadata": {
        "colab": {
          "base_uri": "https://localhost:8080/"
        },
        "id": "0HLPKtCv8HM5",
        "outputId": "ccabf224-37e6-43bb-c71d-cc6b8fc0a971"
      },
      "execution_count": null,
      "outputs": [
        {
          "output_type": "stream",
          "name": "stdout",
          "text": [
            "Hello World , Current run count is:  4\n"
          ]
        }
      ]
    },
    {
      "cell_type": "code",
      "source": [
        "print(f\"{string}, Current count is: {cnt}\")"
      ],
      "metadata": {
        "colab": {
          "base_uri": "https://localhost:8080/"
        },
        "id": "n2OTXHF18zPN",
        "outputId": "ab597607-9882-49ec-db7e-e4fd24876e01"
      },
      "execution_count": null,
      "outputs": [
        {
          "output_type": "stream",
          "name": "stdout",
          "text": [
            "Hello World, Current count is: 4\n"
          ]
        }
      ]
    },
    {
      "cell_type": "code",
      "source": [
        "sem_grade = 82.2435\n",
        "name = \"\"\n",
        "print(\"Hello {}, your semestral grade is {}\".format(name, sem_grade))"
      ],
      "metadata": {
        "colab": {
          "base_uri": "https://localhost:8080/"
        },
        "id": "ZFZjU4jq9b36",
        "outputId": "6f7b1157-dcbe-416b-d6a0-46a889f6b273"
      },
      "execution_count": null,
      "outputs": [
        {
          "output_type": "stream",
          "name": "stdout",
          "text": [
            "Hello , your semestral grade is 82.2435\n"
          ]
        }
      ]
    },
    {
      "cell_type": "code",
      "source": [
        "w_pg, w_mg, w_fg = 0.3, 0.3, 0.4\n",
        "print(\"The weights of your semestral grades are:\\\n",
        "\\n\\t{:.2%} for Prelims\\\n",
        "\\n\\t{:.2%} for Midterms, and\\\n",
        "\\n\\t{:.2%} for Finals.\".format(w_pg, w_mg,w_fg))"
      ],
      "metadata": {
        "id": "gO2re1P497gF",
        "colab": {
          "base_uri": "https://localhost:8080/"
        },
        "outputId": "8b23f733-4ba5-4a0a-d4e9-4e6123a27348"
      },
      "execution_count": null,
      "outputs": [
        {
          "output_type": "stream",
          "name": "stdout",
          "text": [
            "The weights of your semestral grades are:\n",
            "\t30.00% for Prelims\n",
            "\t30.00% for Midterms, and\n",
            "\t40.00% for Finals.\n"
          ]
        }
      ]
    },
    {
      "cell_type": "code",
      "source": [
        "x = input(\"enter a number: \")\n",
        "x"
      ],
      "metadata": {
        "colab": {
          "base_uri": "https://localhost:8080/",
          "height": 54
        },
        "id": "nEStEgyPudqV",
        "outputId": "c92fb116-6d68-4f88-c516-2aa477cf4506"
      },
      "execution_count": null,
      "outputs": [
        {
          "name": "stdout",
          "output_type": "stream",
          "text": [
            "enter a number: 111821\n"
          ]
        },
        {
          "output_type": "execute_result",
          "data": {
            "application/vnd.google.colaboratory.intrinsic+json": {
              "type": "string"
            },
            "text/plain": [
              "'111821'"
            ]
          },
          "metadata": {},
          "execution_count": 8
        }
      ]
    },
    {
      "cell_type": "code",
      "source": [
        "name = input(\"Kimi no nawa: \")\n",
        "pg = input(\"Enter prelim grade: \")\n",
        "mg = input(\"Enter midterm grade: \")\n",
        "fg = input(\"Enter finals grade: \")\n",
        "sem_grade = None\n",
        "print(\"Hello {}, your semestral grade is: {}\".format(name, sem_grade))"
      ],
      "metadata": {
        "colab": {
          "base_uri": "https://localhost:8080/"
        },
        "id": "N0-hZ7SyuuYl",
        "outputId": "050bce22-44bb-4276-ee02-f5094e32a672"
      },
      "execution_count": null,
      "outputs": [
        {
          "output_type": "stream",
          "name": "stdout",
          "text": [
            "Kimi no nawa: Onyxe\n",
            "Enter prelim grade: 98\n",
            "Enter midterm grade: 97\n",
            "Enter finals grade: 95\n",
            "Hello Onyxe, your semestral grade is: None\n"
          ]
        }
      ]
    },
    {
      "cell_type": "markdown",
      "source": [
        "## Looping Statements"
      ],
      "metadata": {
        "id": "5X15bBD0v2DU"
      }
    },
    {
      "cell_type": "markdown",
      "source": [
        "### While\n"
      ],
      "metadata": {
        "id": "avpFAybYv62C"
      }
    },
    {
      "cell_type": "code",
      "source": [
        "## while loops\n",
        "i, j = 0, 10\n",
        "while(i<=j):\n",
        "  print(f\"{i}\\t|\\t{j}\")\n",
        "  i+=1"
      ],
      "metadata": {
        "colab": {
          "base_uri": "https://localhost:8080/"
        },
        "id": "XCbEMtXdwAGo",
        "outputId": "d404247d-5a9e-461b-bdad-a9b71620d62c"
      },
      "execution_count": null,
      "outputs": [
        {
          "output_type": "stream",
          "name": "stdout",
          "text": [
            "0\t|\t10\n",
            "1\t|\t10\n",
            "2\t|\t10\n",
            "3\t|\t10\n",
            "4\t|\t10\n",
            "5\t|\t10\n",
            "6\t|\t10\n",
            "7\t|\t10\n",
            "8\t|\t10\n",
            "9\t|\t10\n",
            "10\t|\t10\n"
          ]
        }
      ]
    },
    {
      "cell_type": "markdown",
      "source": [
        "### For"
      ],
      "metadata": {
        "id": "ZDtEmIJIwkIQ"
      }
    },
    {
      "cell_type": "code",
      "source": [
        "# for (int i=0; i<10; i++){\n",
        "# printf(i)\n",
        "# } ##Java\n",
        "\n",
        "i=0\n",
        "for i in range(10):\n",
        "  print(i)"
      ],
      "metadata": {
        "colab": {
          "base_uri": "https://localhost:8080/"
        },
        "id": "3V7IKf4dw0Vw",
        "outputId": "6a3e2573-043b-4d0c-94e9-e4fbecf4247f"
      },
      "execution_count": null,
      "outputs": [
        {
          "output_type": "stream",
          "name": "stdout",
          "text": [
            "0\n",
            "1\n",
            "2\n",
            "3\n",
            "4\n",
            "5\n",
            "6\n",
            "7\n",
            "8\n",
            "9\n"
          ]
        }
      ]
    },
    {
      "cell_type": "code",
      "source": [
        "## array\n",
        "playlist = [\"I guess I'm in love\", \"Nothing\", \"Lowkey\"]\n",
        "print('Now Playing\\n')\n",
        "for song in playlist:\n",
        "  print(song)"
      ],
      "metadata": {
        "colab": {
          "base_uri": "https://localhost:8080/"
        },
        "id": "X4kMZ1aayHtS",
        "outputId": "b47bfdce-bf7e-459b-bf3b-6dade9d33976"
      },
      "execution_count": null,
      "outputs": [
        {
          "output_type": "stream",
          "name": "stdout",
          "text": [
            "Now Playing\n",
            "\n",
            "I guess I'm in love\n",
            "Nothing\n",
            "Lowkey\n"
          ]
        }
      ]
    },
    {
      "cell_type": "markdown",
      "source": [
        "## Flow Control"
      ],
      "metadata": {
        "id": "UcjOWSbKylK5"
      }
    },
    {
      "cell_type": "markdown",
      "source": [
        "###Condition Statements"
      ],
      "metadata": {
        "id": "KS4IPTAnyo9i"
      }
    },
    {
      "cell_type": "code",
      "source": [
        "numeral1, numeral2 = 18, 18\n",
        "if(numeral1 == numeral2):\n",
        "  print(\"Yey\")\n",
        "elif(numeral1>numeral2):\n",
        "  print(\"Hoho\")\n",
        "else:\n",
        "  print(\"Aww\")\n"
      ],
      "metadata": {
        "colab": {
          "base_uri": "https://localhost:8080/"
        },
        "id": "Eudc3UCcyt1T",
        "outputId": "aade023c-9ec0-4bce-c689-80e0fc1be8b6"
      },
      "execution_count": null,
      "outputs": [
        {
          "output_type": "stream",
          "name": "stdout",
          "text": [
            "Yey\n"
          ]
        }
      ]
    },
    {
      "cell_type": "markdown",
      "source": [
        "### Functions"
      ],
      "metadata": {
        "id": "CN5bFoJA1j1i"
      }
    },
    {
      "cell_type": "code",
      "source": [
        "def delete_user (userid):\n",
        "  print(\"Succesfully deleted user: {}\".format (userid))\n",
        "\n",
        "def delete_all_users ():\n",
        "  print(\"Everyone is dead.\")"
      ],
      "metadata": {
        "id": "wTt3_FJt1mki"
      },
      "execution_count": null,
      "outputs": []
    },
    {
      "cell_type": "code",
      "source": [
        "userid = \"Dana\"\n",
        "delete_user(\"Dana\")\n",
        "delete_all_users()"
      ],
      "metadata": {
        "colab": {
          "base_uri": "https://localhost:8080/"
        },
        "id": "buf_h2nI2fe1",
        "outputId": "0fd1a7af-6ec1-48f0-851e-937efd1fbc0d"
      },
      "execution_count": null,
      "outputs": [
        {
          "output_type": "stream",
          "name": "stdout",
          "text": [
            "Succesfully deleted user: Dana\n",
            "Everyone is dead.\n"
          ]
        }
      ]
    },
    {
      "cell_type": "code",
      "source": [
        "def add(addend1, addend2):\n",
        "  return addend1 + addend2\n",
        "def power_of_base2(exponent):\n",
        "  return 2**exponent"
      ],
      "metadata": {
        "id": "B7ZHn7gK2ynH"
      },
      "execution_count": null,
      "outputs": []
    },
    {
      "cell_type": "code",
      "source": [
        "#addend1, addend2 = 8, 18\n",
        "#add(addend1, addend2)\n",
        "\n",
        "exponent = 8\n",
        "power_of_base2(exponent)"
      ],
      "metadata": {
        "colab": {
          "base_uri": "https://localhost:8080/"
        },
        "id": "W0BxmsiP4H_R",
        "outputId": "d88bf2be-cae0-4d51-f4e3-72424c00f222"
      },
      "execution_count": null,
      "outputs": [
        {
          "output_type": "execute_result",
          "data": {
            "text/plain": [
              "256"
            ]
          },
          "metadata": {},
          "execution_count": 9
        }
      ]
    },
    {
      "cell_type": "markdown",
      "source": [
        "## Assignment"
      ],
      "metadata": {
        "id": "XObU9Koay2xC"
      }
    },
    {
      "cell_type": "code",
      "source": [
        "## Create a grade calculator that computes for the semestral grade of a course. \n",
        "## Students could type their names, the name of the course, then their prelim, midterms and final grade.\n",
        "## The program should print the semestral grade in 2 decimal points and should display the following emojis\n",
        "## depending on the situation:\n",
        "## happy - when grade is greater than 70.00\n",
        "## laughing - when grade is exactly 70.00\n",
        "## sad - when grade is below 70.00\n",
        "## happy, lol, sad = \"\\U0001F600\", \"\\U0001F606\", \"\\U0001F62D\""
      ],
      "metadata": {
        "id": "xbXVYBbZ0w0M"
      },
      "execution_count": null,
      "outputs": []
    },
    {
      "cell_type": "code",
      "source": [
        "happy,lol,sad = \"\\U0001F600\" , \"\\U0001F606\" , \"\\U0001F62D\"\n",
        "x = 70.00\n",
        "name = input(\"Enter your Full Name:\")\n",
        "course = input(\"Enter your course:\")\n",
        "pg = float(input(\"Enter your Prelim Grade: \"))\n",
        "mg = float(input(\"Enter your Midterm Grade: \"))\n",
        "fg = float(input(\"enter your Final Grade: \"))\n",
        "sg =(pg*0.3) + (mg*0.3) +(fg*0.4)\n",
        "sem_grade = \"{:.2f}\".format(sg)\n",
        "if(float(sem_grade)>x):\n",
        "  print(\"Hello {}, your semestral grade is: {} {}\". format(name, sem_grade, happy))\n",
        "elif(float(sem_grade)==x):\n",
        "  print(\"Hello {}, your semestral grade is: {} {}\". format(name, sem_grade, lol))\n",
        "elif(float(sem_grade)<x):\n",
        "  print(\"Hello {}, your semestral grade is: {} {}\". format(name, sem_grade, sad))"
      ],
      "metadata": {
        "colab": {
          "base_uri": "https://localhost:8080/"
        },
        "id": "pzqKIJe00GOy",
        "outputId": "82e50b8b-3cfb-413a-d33c-f52bd6d0302a"
      },
      "execution_count": null,
      "outputs": [
        {
          "output_type": "stream",
          "name": "stdout",
          "text": [
            "Enter your Full Name:Rhyth Onyxe Sabio\n",
            "Enter your course:Linear Algebra\n",
            "Enter your Prelim Grade: 97\n",
            "Enter your Midterm Grade: 94\n",
            "enter your Final Grade: 89\n",
            "Hello Rhyth Onyxe Sabio, your semestral grade is: 92.90 😀\n"
          ]
        }
      ]
    },
    {
      "cell_type": "code",
      "source": [
        "## Create a grade calculator that computes for the semestral grade of a course. \n",
        "## Students could type their names, the name of the course, then their prelim, midterms and final grade.\n",
        "## The program should print the semestral grade in 2 decimal points and should display the following emojis\n",
        "## depending on the situation:\n",
        "## happy - when grade is greater than 70.00\n",
        "## laughing - when grade is exactly 70.00\n",
        "## sad - when grade is below 70.00\n",
        "## happy, lol, sad = \"\\U0001F600\", \"\\U0001F606\", \"\\U0001F62D\"\n",
        "\n",
        "name = input(\"Name: \")\n",
        "course = input(\"Course: \")\n",
        "pre = float(input (\"Enter prelim grade: \"))\n",
        "mid = float(input (\"Enter midterm grade: \"))\n",
        "fin = float(input (\"Enter final grade: \"))\n",
        "sem = pre*0.30 + mid*0.30 + fin*0.40\n",
        "se = \"{:.2f}\".format(sem)\n",
        "ave = 70.00\n",
        "if(sem == ave):\n",
        "  print(\"Your semestral grade is:\",se, \"\\U0001F606\")\n",
        "elif(sem > ave):\n",
        "  print(\"Your semestral grade is:\",se, \"\\U0001F600\")\n",
        "else:\n",
        "  print(\"Your semestral grade is:\",se, \"\\U0001F62D\")\n"
      ],
      "metadata": {
        "colab": {
          "base_uri": "https://localhost:8080/"
        },
        "id": "Ky4Y0dQgfxuu",
        "outputId": "00cf7037-1f4c-4774-e95d-c2a922a85143"
      },
      "execution_count": null,
      "outputs": [
        {
          "output_type": "stream",
          "name": "stdout",
          "text": [
            "Name: Jgiordana Sarno\n",
            "Course: Linear Algebra\n",
            "Enter prelim grade: 70\n",
            "Enter midterm grade: 70\n",
            "Enter final grade: 70\n",
            "Your semestral grade is: 70.00 😆\n"
          ]
        }
      ]
    }
  ]
}