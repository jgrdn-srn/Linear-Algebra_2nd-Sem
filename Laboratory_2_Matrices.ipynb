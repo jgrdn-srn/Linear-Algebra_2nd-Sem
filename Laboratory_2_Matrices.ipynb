{
  "nbformat": 4,
  "nbformat_minor": 0,
  "metadata": {
    "colab": {
      "name": "Laboratory 2: Matrices.ipynb",
      "provenance": [],
      "collapsed_sections": [],
      "include_colab_link": true
    },
    "kernelspec": {
      "name": "python3",
      "display_name": "Python 3"
    },
    "language_info": {
      "name": "python"
    }
  },
  "cells": [
    {
      "cell_type": "markdown",
      "metadata": {
        "id": "view-in-github",
        "colab_type": "text"
      },
      "source": [
        "<a href=\"https://colab.research.google.com/github/jgrdn-srn/Linear-Algebra_2nd-Sem/blob/main/Laboratory_2_Matrices.ipynb\" target=\"_parent\"><img src=\"https://colab.research.google.com/assets/colab-badge.svg\" alt=\"Open In Colab\"/></a>"
      ]
    },
    {
      "cell_type": "markdown",
      "source": [
        "# Linear Algebra for ChE\n",
        "## Laboratory 2: Matrices"
      ],
      "metadata": {
        "id": "oFVmQ7A0xtXQ"
      }
    },
    {
      "cell_type": "markdown",
      "source": [
        "Now that you have a fundamental knowledge about Python, we'll try to look into greater dimensions."
      ],
      "metadata": {
        "id": "2h6RgMWmalk8"
      }
    },
    {
      "cell_type": "markdown",
      "source": [
        "###Objectives"
      ],
      "metadata": {
        "id": "bIhpDJcCa25z"
      }
    },
    {
      "cell_type": "markdown",
      "source": [
        "At the end of this activity you will be able to:\n",
        "\n",
        "1. Be familiar with matrices and their relation to linear equations.\n",
        "2. Perform basic matrix operations.\n",
        "3. Program and translate matrix equations and operations using Python."
      ],
      "metadata": {
        "id": "FZk-ctP7a7QL"
      }
    },
    {
      "cell_type": "markdown",
      "source": [
        "## Discussion"
      ],
      "metadata": {
        "id": "NA_gaSD4yNIr"
      }
    },
    {
      "cell_type": "code",
      "execution_count": null,
      "metadata": {
        "id": "YLDOgR7CvLbF"
      },
      "outputs": [],
      "source": [
        "import numpy as np\n",
        "## numpy - numerical python\n",
        "import matplotlib.pyplot as plt\n",
        "## matrix library\n",
        "import scipy.linalg as la\n",
        "%matplotlib inline"
      ]
    },
    {
      "cell_type": "markdown",
      "source": [
        "### Matrices"
      ],
      "metadata": {
        "id": "0-x_w7q5y2Wk"
      }
    },
    {
      "cell_type": "markdown",
      "source": [
        "The notation and use of matrices is probably one of the fundamentals of modern computing. Matrices are also handy representations of complex equations or multiple interrelated equations from 2d equations to even hundreds and thousands of them."
      ],
      "metadata": {
        "id": "yBWjPqf5y6dY"
      }
    },
    {
      "cell_type": "markdown",
      "source": [
        "Let's say for example you have A and B as system of equation."
      ],
      "metadata": {
        "id": "Oybg_eKWz2hM"
      }
    },
    {
      "cell_type": "markdown",
      "source": [
        "$$\n",
        "A = \\left\\{\n",
        "    \\begin{array}\\\n",
        "        x + y \\\\ \n",
        "        4x - 10y\n",
        "    \\end{array}\n",
        "\\right. \\\\\n",
        "B = \\left\\{\n",
        "    \\begin{array}\\\n",
        "        x+y+z \\\\ \n",
        "        3x -2y -z \\\\\n",
        "        -x + 4y +2z\n",
        "    \\end{array}\n",
        "\\right. \\\\\n",
        "C = \\left\\{\n",
        "    \\begin{array}\\\n",
        "        w -2x + 3y - 4z \\\\ \n",
        "        3w - x - 2y + z\\\\\n",
        "        2w - x + 3y - 2z\n",
        "    \\end{array}\n",
        "\\right. \\\\ $$\n"
      ],
      "metadata": {
        "id": "uOYaJEQdzxpn"
      }
    },
    {
      "cell_type": "markdown",
      "source": [
        "We could see that A is a system of 2 equations with 2 parameters. While B is a system of equations with 3 parameters. We can represent them as matrices as:"
      ],
      "metadata": {
        "id": "lml_u-he0DEj"
      }
    },
    {
      "cell_type": "markdown",
      "source": [
        ":$$\n",
        "A=\\begin{bmatrix} 1 & 1 \\\\ 4 & {-10}\\end{bmatrix} \\\\\n",
        "B=\\begin{bmatrix} 1 & 1 & 1 \\\\ 3 & -2 & -1 \\\\ -1 & 4 & 2\\end{bmatrix} \\\\\n",
        "C=\\begin{bmatrix} 1 & -2 & 3 & -4 \\\\ 3 & -1 & -2 & 1 \\\\ 2 & -1 & 3 & -2\\end{bmatrix}\n",
        "$$\n"
      ],
      "metadata": {
        "id": "MG_nNOYT1UqL"
      }
    },
    {
      "cell_type": "markdown",
      "source": [
        "So assuming that you already discussed the fundamental representation of matrices, their types, and operations. We'll proceed in doing them in here in Python."
      ],
      "metadata": {
        "id": "Kzd6UJet2Q_9"
      }
    },
    {
      "cell_type": "markdown",
      "source": [
        "###Declaring Matrices"
      ],
      "metadata": {
        "id": "F8qjwQsW2kZR"
      }
    },
    {
      "cell_type": "markdown",
      "source": [
        "Just like our previous laboratory activity, we'll represent system of linear equations as a matrix. The entities or numbers in matrices are called the elements of a matrix. These elements are arranged and ordered in rows and columns which form the list/array-like structure of matrices. And just like arrays, these elements are indexed according to their position with respect to their rows and columns. This can be represented just like the equation below. Whereas $A$ is a matrix consisting of elements denoted by $a_{i,j}$. Denoted by $i$ is the number of rows in the matrix while $j$ stands for the number of columns.<br>\n",
        "Do note that the $size$ of a matrix is $i\\times j$."
      ],
      "metadata": {
        "id": "3gg480CD2oBh"
      }
    },
    {
      "cell_type": "markdown",
      "source": [
        "$$A=\\begin{bmatrix}\n",
        "a_{(0,0)}&a_{(0,1)}&\\dots&a_{(0,j-1)}\\\\\n",
        "a_{(1,0)}&a_{(1,1)}&\\dots&a_{(1,j-1)}\\\\\n",
        "\\vdots&\\vdots&\\ddots&\\vdots&\\\\\n",
        "a_{(i-1,0)}&a_{(i-1,1)}&\\dots&a_{(i-1,j-1)}\n",
        "\\end{bmatrix}\n",
        "$$\n"
      ],
      "metadata": {
        "id": "DyLm42Z83v2s"
      }
    },
    {
      "cell_type": "markdown",
      "source": [
        "We already gone over some of the types of matrices as vectors but we'll further discuss them in this laboratory activity. Since you already know how to describe vectors using shape, dimensions and size attributes, we'll use them to analyze these matrices."
      ],
      "metadata": {
        "id": "EHa0PgVc31t8"
      }
    },
    {
      "cell_type": "code",
      "source": [
        "## Since we'll keep on describing matrices. Let's make a function.\n",
        "def describe_mat(matrix):\n",
        "  print(f'Matrix:\\n{matrix}\\n\\nShape:\\t{matrix.shape}\\nRank:\\t{matrix.ndim}\\n')"
      ],
      "metadata": {
        "id": "sU66YwACzudK"
      },
      "execution_count": null,
      "outputs": []
    },
    {
      "cell_type": "code",
      "source": [
        "## Declaring a 2 x 2 matrix\n",
        "A = np.array([\n",
        "    [1, 2],\n",
        "    [3, 1]\n",
        "])\n",
        "describe_mat(A)"
      ],
      "metadata": {
        "colab": {
          "base_uri": "https://localhost:8080/"
        },
        "id": "LniVXCFh4g1B",
        "outputId": "09c502b9-eb7a-4e5c-f9ea-ca084a1d6252"
      },
      "execution_count": null,
      "outputs": [
        {
          "output_type": "stream",
          "name": "stdout",
          "text": [
            "Matrix:\n",
            "[[1 2]\n",
            " [3 1]]\n",
            "\n",
            "Shape:\t(2, 2)\n",
            "Rank:\t2\n",
            "\n"
          ]
        }
      ]
    },
    {
      "cell_type": "code",
      "source": [
        "G = np.array([\n",
        "    [1, 1, 3],\n",
        "    [2, 2, 4]          \n",
        "])\n",
        "describe_mat(G)"
      ],
      "metadata": {
        "colab": {
          "base_uri": "https://localhost:8080/"
        },
        "id": "MtpTRdmu6L0r",
        "outputId": "baca38e5-6650-480e-e565-cdce78e9f508"
      },
      "execution_count": null,
      "outputs": [
        {
          "output_type": "stream",
          "name": "stdout",
          "text": [
            "Matrix:\n",
            "[[1 1 3]\n",
            " [2 2 4]]\n",
            "\n",
            "Shape:\t(2, 3)\n",
            "Rank:\t2\n",
            "\n"
          ]
        }
      ]
    },
    {
      "cell_type": "code",
      "source": [
        "## Declaring a 3 x 2 matrix\n",
        "B = np.array([\n",
        "    [8, 2],\n",
        "    [5, 4],\n",
        "    [1, 1]          \n",
        "])\n",
        "describe_mat(B)"
      ],
      "metadata": {
        "colab": {
          "base_uri": "https://localhost:8080/"
        },
        "id": "7oBmnwp36_j_",
        "outputId": "48ce8bce-74e2-477e-ee51-8f4c4ab19029"
      },
      "execution_count": null,
      "outputs": [
        {
          "output_type": "stream",
          "name": "stdout",
          "text": [
            "Matrix:\n",
            "[[8 2]\n",
            " [5 4]\n",
            " [1 1]]\n",
            "\n",
            "Shape:\t(3, 2)\n",
            "Rank:\t2\n",
            "\n"
          ]
        }
      ]
    },
    {
      "cell_type": "code",
      "source": [
        "H = np.array([1,8,1,1])\n",
        "describe_mat(H)"
      ],
      "metadata": {
        "id": "dV33zK9I7R0Q",
        "colab": {
          "base_uri": "https://localhost:8080/"
        },
        "outputId": "65f7e033-2cb7-4e7e-ba69-6c6f1a512a21"
      },
      "execution_count": null,
      "outputs": [
        {
          "output_type": "stream",
          "name": "stdout",
          "text": [
            "Matrix:\n",
            "[1 8 1 1]\n",
            "\n",
            "Shape:\t(4,)\n",
            "Rank:\t1\n",
            "\n"
          ]
        }
      ]
    },
    {
      "cell_type": "markdown",
      "source": [
        "##Categorizing Matrices"
      ],
      "metadata": {
        "id": "bnmvVY2p7Sb2"
      }
    },
    {
      "cell_type": "markdown",
      "source": [
        "There are several ways of classifying matrices. Once could be according to their shape and another is according to their element values. We'll try to go through them."
      ],
      "metadata": {
        "id": "6mPYZ3Ptcdwt"
      }
    },
    {
      "cell_type": "markdown",
      "source": [
        "##According to shape"
      ],
      "metadata": {
        "id": "0uxX3nkMcggy"
      }
    },
    {
      "cell_type": "markdown",
      "source": [
        "####Row and Column Matrices"
      ],
      "metadata": {
        "id": "F3i4QnNzcpC2"
      }
    },
    {
      "cell_type": "markdown",
      "source": [
        "**Row** and column matrices are common in vector and matrix computations. They can also represent row and column spaces of a bigger vector space. Row and column matrices are represented by a single column or single row. So with that being, the shape of row matrices would be $1 \\times j$ and column matrices would be $i \\times 1$."
      ],
      "metadata": {
        "id": "tZDTi0Kxctbs"
      }
    },
    {
      "cell_type": "code",
      "source": [
        "## Declaring a Row Matrix\n",
        "rm1D = np.array([\n",
        "   1, 3, 2, -4                    \n",
        "]) ## this is a 1-D Matrix with a shape of (3,), it's not really considered as a row matrix.\n",
        "rm2D = np.array([\n",
        "  [1, 2, 3, -4]\n",
        "]) ## This is a 2-D Matrix with a shape of (1, 3)\n",
        "describe_mat(rm1D)\n",
        "describe_mat(rm2D)"
      ],
      "metadata": {
        "colab": {
          "base_uri": "https://localhost:8080/"
        },
        "id": "suAy2v2v8BZu",
        "outputId": "d78e1d9d-555b-4944-96ce-0327338f6c78"
      },
      "execution_count": null,
      "outputs": [
        {
          "output_type": "stream",
          "name": "stdout",
          "text": [
            "Matrix:\n",
            "[ 1  3  2 -4]\n",
            "\n",
            "Shape:\t(4,)\n",
            "Rank:\t1\n",
            "\n",
            "Matrix:\n",
            "[[ 1  2  3 -4]]\n",
            "\n",
            "Shape:\t(1, 4)\n",
            "Rank:\t2\n",
            "\n"
          ]
        }
      ]
    },
    {
      "cell_type": "code",
      "source": [
        "## Declaring a column matrix\n",
        "\n",
        "colmat = np.array([\n",
        "  [1],\n",
        "  [8],\n",
        "  [5]                 \n",
        "]) ## This is a 2-D Matrix with a shape of (3, 1)\n",
        "describe_mat(colmat)"
      ],
      "metadata": {
        "colab": {
          "base_uri": "https://localhost:8080/"
        },
        "id": "Pm63kG-a9Vzh",
        "outputId": "f7c62b8d-25fe-495a-97fc-6a4d211391bf"
      },
      "execution_count": null,
      "outputs": [
        {
          "output_type": "stream",
          "name": "stdout",
          "text": [
            "Matrix:\n",
            "[[1]\n",
            " [8]\n",
            " [5]]\n",
            "\n",
            "Shape:\t(3, 1)\n",
            "Rank:\t2\n",
            "\n"
          ]
        }
      ]
    },
    {
      "cell_type": "code",
      "source": [
        ""
      ],
      "metadata": {
        "id": "DcIDgInV0d62"
      },
      "execution_count": null,
      "outputs": []
    },
    {
      "cell_type": "markdown",
      "source": [
        "###Square Matrices"
      ],
      "metadata": {
        "id": "YSiRhocH95KC"
      }
    },
    {
      "cell_type": "markdown",
      "source": [
        "Square matrices are that have the same row and column sizes. We could say a matrix is square if i = j. We can tweak our matrix descriptor function to determine square matrices"
      ],
      "metadata": {
        "id": "GGNc6IMK99TZ"
      }
    },
    {
      "cell_type": "code",
      "source": [
        "def describe_mat(matrix):\n",
        "  is_square = True if matrix.shape[0] == matrix.shape[1] else False\n",
        "  print(f'Matrix:\\n{matrix}\\n\\nShape:\\t{matrix.shape}\\nRank:\\t{matrix.ndim}\\nIs Square: {is_square}\\n')"
      ],
      "metadata": {
        "id": "JMF0yjJt-S79"
      },
      "execution_count": null,
      "outputs": []
    },
    {
      "cell_type": "code",
      "source": [
        "square_mat = np.array([\n",
        "  [1, 6, 8],\n",
        "  [8, 8, 9],\n",
        "  [10, 6, 8]\n",
        "])\n",
        "nsq = np.array([\n",
        "  [3, 8, 0],\n",
        "  [0, 8, 10]\n",
        "])\n",
        "describe_mat(square_mat)\n",
        "describe_mat(nsq)"
      ],
      "metadata": {
        "colab": {
          "base_uri": "https://localhost:8080/"
        },
        "id": "MWnpwWiz-9ww",
        "outputId": "8e00c804-8594-43e9-c728-ba01c3a14433"
      },
      "execution_count": null,
      "outputs": [
        {
          "output_type": "stream",
          "name": "stdout",
          "text": [
            "Matrix:\n",
            "[[ 1  6  8]\n",
            " [ 8  8  9]\n",
            " [10  6  8]]\n",
            "\n",
            "Shape:\t(3, 3)\n",
            "Rank:\t2\n",
            "Is Square: True\n",
            "\n",
            "Matrix:\n",
            "[[ 3  8  0]\n",
            " [ 0  8 10]]\n",
            "\n",
            "Shape:\t(2, 3)\n",
            "Rank:\t2\n",
            "Is Square: False\n",
            "\n"
          ]
        }
      ]
    },
    {
      "cell_type": "markdown",
      "source": [
        "### According to element values"
      ],
      "metadata": {
        "id": "gTtfe_grdo62"
      }
    },
    {
      "cell_type": "markdown",
      "source": [
        "#### Null Matrix"
      ],
      "metadata": {
        "id": "OAXZAkPad5CK"
      }
    },
    {
      "cell_type": "markdown",
      "source": [
        "A Null Matrix is a matrix that has no elements. It is always a subspace of any vector or matrix."
      ],
      "metadata": {
        "id": "wjJ_Kxlfd7de"
      }
    },
    {
      "cell_type": "code",
      "source": [
        "def describe_mat(matrix):\n",
        "  if matrix.size > 0:\n",
        "    is_square = True if matrix.shape[0] == matrix.shape[1] else False\n",
        "    print(f'Matrix:\\n{matrix}\\n\\nShape:\\t{matrix.shape}\\nRank:\\t{matrix.ndim}\\nIs Square: {is_square}\\n')\n",
        "  else:\n",
        "    print('Matrix is null.')"
      ],
      "metadata": {
        "id": "jiJVpm0PBEpH"
      },
      "execution_count": null,
      "outputs": []
    },
    {
      "cell_type": "code",
      "source": [
        "nm = np.array([])\n",
        "describe_mat(nm)"
      ],
      "metadata": {
        "colab": {
          "base_uri": "https://localhost:8080/"
        },
        "id": "ixjJzK9rB-QF",
        "outputId": "c3656ae1-e077-4ae4-a31b-0914ad6acc5e"
      },
      "execution_count": null,
      "outputs": [
        {
          "output_type": "stream",
          "name": "stdout",
          "text": [
            "Matrix is null.\n"
          ]
        }
      ]
    },
    {
      "cell_type": "markdown",
      "source": [
        "#### Zero Matrix"
      ],
      "metadata": {
        "id": "Q0dH_cQDeKG8"
      }
    },
    {
      "cell_type": "markdown",
      "source": [
        "A zero matrix can be any rectangular matrix but with all elements having a value of 0."
      ],
      "metadata": {
        "id": "YUNmv4zCeM0C"
      }
    },
    {
      "cell_type": "code",
      "source": [
        "zmr = np.zeros((1,2))\n",
        "zms = np.zeros((2,2))\n",
        "zmrct = np.zeros((3,2))\n",
        "\n",
        "print(f'Zero Row Matrix: \\n{zmr}')\n",
        "print(f'Zero Square Matrix: \\n{zms}')\n",
        "print(f'Zero Rectangular Matrix: \\n{zmrct}')"
      ],
      "metadata": {
        "colab": {
          "base_uri": "https://localhost:8080/"
        },
        "id": "hMYHt2r6CmrB",
        "outputId": "144056af-0802-439f-db85-da5bfe0203e2"
      },
      "execution_count": null,
      "outputs": [
        {
          "output_type": "stream",
          "name": "stdout",
          "text": [
            "Zero Row Matrix: \n",
            "[[0. 0.]]\n",
            "Zero Square Matrix: \n",
            "[[0. 0.]\n",
            " [0. 0.]]\n",
            "Zero Rectangular Matrix: \n",
            "[[0. 0.]\n",
            " [0. 0.]\n",
            " [0. 0.]]\n"
          ]
        }
      ]
    },
    {
      "cell_type": "markdown",
      "source": [
        "####  Ones Matrix"
      ],
      "metadata": {
        "id": "FuJzX0T-eSCP"
      }
    },
    {
      "cell_type": "markdown",
      "source": [
        "A ones matrix, just like the zero matrix, can be any rectangular matrix but all of its elements are 1s instead of 0s."
      ],
      "metadata": {
        "id": "pCmmMyUteUfB"
      }
    },
    {
      "cell_type": "code",
      "source": [
        "## Ones Matrix - to get the identity\n",
        "\n",
        "omr = np.ones((1,2))\n",
        "oms = np.ones((2,2))\n",
        "omrct = np.ones((3,2))\n",
        "\n",
        "print(f'Ones Row Matrix: \\n{omr}')\n",
        "print(f'Ones Square Matrix: \\n{oms}')\n",
        "print(f'Ones Rectangular Matrix: \\n{omrct}')"
      ],
      "metadata": {
        "colab": {
          "base_uri": "https://localhost:8080/"
        },
        "id": "mMznog0PDqOh",
        "outputId": "de3a1913-76b0-41dc-e0f8-960695a73067"
      },
      "execution_count": null,
      "outputs": [
        {
          "output_type": "stream",
          "name": "stdout",
          "text": [
            "Ones Row Matrix: \n",
            "[[1. 1.]]\n",
            "Ones Square Matrix: \n",
            "[[1. 1.]\n",
            " [1. 1.]]\n",
            "Ones Rectangular Matrix: \n",
            "[[1. 1.]\n",
            " [1. 1.]\n",
            " [1. 1.]]\n"
          ]
        }
      ]
    },
    {
      "cell_type": "markdown",
      "source": [
        "#### Diagonal Matrix"
      ],
      "metadata": {
        "id": "VYRu_mnNedUM"
      }
    },
    {
      "cell_type": "markdown",
      "source": [
        "A diagonal matrix is a square matrix that has values only at the diagonal of the matrix."
      ],
      "metadata": {
        "id": "S3vf0cb3egRh"
      }
    },
    {
      "cell_type": "code",
      "source": [
        "## Diagonal Matrix\n",
        "np.array([\n",
        "  [8, 0, 0],\n",
        "  [0, 8, 0],\n",
        "  [0, 0, 8]\n",
        "])\n",
        "# a[1,1], a[2,2], a[3,3], ... a[n-1, n-1]"
      ],
      "metadata": {
        "colab": {
          "base_uri": "https://localhost:8080/"
        },
        "id": "AxLXViqLEqZS",
        "outputId": "270e70d7-7d59-4439-fdb3-2a96bab82756"
      },
      "execution_count": null,
      "outputs": [
        {
          "output_type": "execute_result",
          "data": {
            "text/plain": [
              "array([[8, 0, 0],\n",
              "       [0, 8, 0],\n",
              "       [0, 0, 8]])"
            ]
          },
          "metadata": {},
          "execution_count": 16
        }
      ]
    },
    {
      "cell_type": "code",
      "source": [
        "d = np.diag([8, 10, 9, 8])\n",
        "d"
      ],
      "metadata": {
        "colab": {
          "base_uri": "https://localhost:8080/"
        },
        "id": "RqByNQ60E-nq",
        "outputId": "3da0d832-17c5-4a19-a96e-da95ba756d41"
      },
      "execution_count": null,
      "outputs": [
        {
          "output_type": "execute_result",
          "data": {
            "text/plain": [
              "array([[ 8,  0,  0,  0],\n",
              "       [ 0, 10,  0,  0],\n",
              "       [ 0,  0,  9,  0],\n",
              "       [ 0,  0,  0,  8]])"
            ]
          },
          "metadata": {},
          "execution_count": 130
        }
      ]
    },
    {
      "cell_type": "code",
      "source": [
        ""
      ],
      "metadata": {
        "id": "ed6Pu5B63Jzx"
      },
      "execution_count": null,
      "outputs": []
    },
    {
      "cell_type": "markdown",
      "source": [
        "#### Identity Matrix"
      ],
      "metadata": {
        "id": "ahRd335sfbKf"
      }
    },
    {
      "cell_type": "markdown",
      "source": [
        "An identity matrix is a special diagonal matrix in which the values at the diagonal are ones."
      ],
      "metadata": {
        "id": "CiCq64ORfgAP"
      }
    },
    {
      "cell_type": "code",
      "source": [
        "np.eye(3)"
      ],
      "metadata": {
        "colab": {
          "base_uri": "https://localhost:8080/"
        },
        "id": "8LlX1_GBGDFt",
        "outputId": "64240faa-7227-45b8-9f53-fafe38a8e81e"
      },
      "execution_count": null,
      "outputs": [
        {
          "output_type": "execute_result",
          "data": {
            "text/plain": [
              "array([[1., 0., 0.],\n",
              "       [0., 1., 0.],\n",
              "       [0., 0., 1.]])"
            ]
          },
          "metadata": {},
          "execution_count": 18
        }
      ]
    },
    {
      "cell_type": "code",
      "source": [
        "np.identity(5)"
      ],
      "metadata": {
        "colab": {
          "base_uri": "https://localhost:8080/"
        },
        "id": "0OCH5VXJGG_i",
        "outputId": "56e55b4d-c30a-40d8-896f-630e13c580d6"
      },
      "execution_count": null,
      "outputs": [
        {
          "output_type": "execute_result",
          "data": {
            "text/plain": [
              "array([[1., 0., 0., 0., 0.],\n",
              "       [0., 1., 0., 0., 0.],\n",
              "       [0., 0., 1., 0., 0.],\n",
              "       [0., 0., 0., 1., 0.],\n",
              "       [0., 0., 0., 0., 1.]])"
            ]
          },
          "metadata": {},
          "execution_count": 19
        }
      ]
    },
    {
      "cell_type": "markdown",
      "source": [
        "#### Upper Triangular Matrix"
      ],
      "metadata": {
        "id": "Jg0IzFHwfqUY"
      }
    },
    {
      "cell_type": "code",
      "source": [
        ""
      ],
      "metadata": {
        "id": "gMWr_VzBu0yh"
      },
      "execution_count": null,
      "outputs": []
    },
    {
      "cell_type": "markdown",
      "source": [
        "An upper triangular matrix is a matrix that has no values below the diagonal."
      ],
      "metadata": {
        "id": "P0gw6wHYfvAP"
      }
    },
    {
      "cell_type": "code",
      "source": [
        "np.array([\n",
        "  [8, 9, 3, 6],\n",
        "  [0, 10, 1, 4],\n",
        "  [0, 0, 8, 5],\n",
        "  [0, 0, 0, 11]        \n",
        "])"
      ],
      "metadata": {
        "colab": {
          "base_uri": "https://localhost:8080/"
        },
        "id": "ltpOW-JrGgGu",
        "outputId": "829c51ef-3ba1-4b3f-bb20-884ea6fefae5"
      },
      "execution_count": null,
      "outputs": [
        {
          "output_type": "execute_result",
          "data": {
            "text/plain": [
              "array([[ 8,  9,  3,  6],\n",
              "       [ 0, 10,  1,  4],\n",
              "       [ 0,  0,  8,  5],\n",
              "       [ 0,  0,  0, 11]])"
            ]
          },
          "metadata": {},
          "execution_count": 20
        }
      ]
    },
    {
      "cell_type": "markdown",
      "source": [
        "#### Lower Triangular Matrix"
      ],
      "metadata": {
        "id": "99r_u64Ef30E"
      }
    },
    {
      "cell_type": "markdown",
      "source": [
        "A lower triangular matrix is a matrix that has no values above the diagonal."
      ],
      "metadata": {
        "id": "W9QgegdYf7Yz"
      }
    },
    {
      "cell_type": "code",
      "source": [
        "np. array([\n",
        "  [1, 0, 0, 0],\n",
        "  [7, 8, 0, 0],\n",
        "  [10, 9, 8, 0],\n",
        "  [9, 8, 5, 4]\n",
        "])"
      ],
      "metadata": {
        "colab": {
          "base_uri": "https://localhost:8080/"
        },
        "id": "4_BQz7_Tf_J_",
        "outputId": "53990233-7105-46c2-81aa-b4a2c9b49d3f"
      },
      "execution_count": null,
      "outputs": [
        {
          "output_type": "execute_result",
          "data": {
            "text/plain": [
              "array([[ 1,  0,  0,  0],\n",
              "       [ 7,  8,  0,  0],\n",
              "       [10,  9,  8,  0],\n",
              "       [ 9,  8,  5,  4]])"
            ]
          },
          "metadata": {},
          "execution_count": 21
        }
      ]
    },
    {
      "cell_type": "markdown",
      "source": [
        "## Practice"
      ],
      "metadata": {
        "id": "NkJXWJGRgac2"
      }
    },
    {
      "cell_type": "markdown",
      "source": [
        "1. Given the linear combination below, try to create a corresponding matrix representing it.\n"
      ],
      "metadata": {
        "id": "HkT4EhJiIyDL"
      }
    },
    {
      "cell_type": "markdown",
      "source": [
        "$$\\theta = 5x + 3y - z$$\n"
      ],
      "metadata": {
        "id": "VA6bd9VIHobQ"
      }
    },
    {
      "cell_type": "code",
      "source": [
        "theta = np.array([\n",
        "  [5, 3, -1]\n",
        "])\n",
        "theta"
      ],
      "metadata": {
        "colab": {
          "base_uri": "https://localhost:8080/"
        },
        "id": "NqIEgp54N731",
        "outputId": "d67c0c04-1eb3-4294-ebc0-1f5463ed1f4b"
      },
      "execution_count": null,
      "outputs": [
        {
          "output_type": "execute_result",
          "data": {
            "text/plain": [
              "array([ 5,  3, -1])"
            ]
          },
          "metadata": {},
          "execution_count": 25
        }
      ]
    },
    {
      "cell_type": "markdown",
      "source": [
        ":$$\n",
        "θ =\\begin{bmatrix} 5 & 3 & -1\\end{bmatrix} \\\\\n",
        "$$"
      ],
      "metadata": {
        "id": "wtOCnTxRgkJJ"
      }
    },
    {
      "cell_type": "markdown",
      "source": [
        "2. Given the system of linear combinations below, try to encode it as a matrix. Also describe the matrix.\n"
      ],
      "metadata": {
        "id": "PHwC_qb_Izjy"
      }
    },
    {
      "cell_type": "markdown",
      "source": [
        "$$\n",
        "A = \\left\\{\\begin{array}\n",
        "5x_1 + 2x_2 +x_3\\\\\n",
        "4x_2 - x_3\\\\\n",
        "10x_3\n",
        "\\end{array}\\right.\n",
        "$$\n"
      ],
      "metadata": {
        "id": "wcWNnOK3H7t3"
      }
    },
    {
      "cell_type": "code",
      "source": [
        ""
      ],
      "metadata": {
        "colab": {
          "base_uri": "https://localhost:8080/"
        },
        "id": "WzdSetQsRAlh",
        "outputId": "15215529-407c-47f1-a8dd-1dd1be7eb71f"
      },
      "execution_count": null,
      "outputs": [
        {
          "output_type": "execute_result",
          "data": {
            "text/plain": [
              "array([[ 1,  2,  3],\n",
              "       [ 0,  4, -1],\n",
              "       [ 0,  0, 10]])"
            ]
          },
          "metadata": {},
          "execution_count": 26
        }
      ]
    },
    {
      "cell_type": "code",
      "source": [
        "import numpy as np\n",
        "import matplotlib.pyplot as plt\n",
        "import scipy.linalg as la\n",
        "%matplotlib inline\n",
        "def describe_mat(matrix):\n",
        "    print(f'Matrix:\\n{matrix}\\n\\nShape:\\t{matrix.shape}\\nRank:\\t{matrix.ndim}\\n')\n",
        "A= np.array ([\n",
        "              [1,2,1],\n",
        "              [0,4,-3],\n",
        "              [0,0,10]\n",
        "])\n",
        "A\n",
        "describe_mat(A)"
      ],
      "metadata": {
        "colab": {
          "base_uri": "https://localhost:8080/"
        },
        "id": "9fVeaCFEtRNn",
        "outputId": "20b72934-a3d8-4c29-f29f-ff6bb26cd2f3"
      },
      "execution_count": null,
      "outputs": [
        {
          "output_type": "stream",
          "name": "stdout",
          "text": [
            "Matrix:\n",
            "[[ 1  2  1]\n",
            " [ 0  4 -3]\n",
            " [ 0  0 10]]\n",
            "\n",
            "Shape:\t(3, 3)\n",
            "Rank:\t2\n",
            "\n"
          ]
        }
      ]
    },
    {
      "cell_type": "markdown",
      "source": [
        "The matrix above is a three by three square matrix with rank of 2 and is an upper triangular matrix."
      ],
      "metadata": {
        "id": "mdX8DsQLRm_8"
      }
    },
    {
      "cell_type": "markdown",
      "source": [
        "3. Given the matrix below, express it as a linear combination in a markdown and a LaTeX markdown\n"
      ],
      "metadata": {
        "id": "uQvELG-WH-x0"
      }
    },
    {
      "cell_type": "code",
      "source": [
        "G = np.array([\n",
        "    [1,7,8],\n",
        "    [2,2,2],\n",
        "    [4,6,7]\n",
        "])\n",
        "G"
      ],
      "metadata": {
        "id": "v0HInP56I7c7",
        "colab": {
          "base_uri": "https://localhost:8080/"
        },
        "outputId": "7e1b0501-01e7-47bf-cb07-6c34a63dae35"
      },
      "execution_count": null,
      "outputs": [
        {
          "output_type": "execute_result",
          "data": {
            "text/plain": [
              "array([[1, 7, 8],\n",
              "       [2, 2, 2],\n",
              "       [4, 6, 7]])"
            ]
          },
          "metadata": {},
          "execution_count": 132
        }
      ]
    },
    {
      "cell_type": "markdown",
      "source": [
        ":$$\n",
        "G=\\begin{bmatrix} 1 & 7 & 8 \\\\ 2 & 2 & 2 \\\\ 4 & 6 & 7 \\end{bmatrix} \n",
        "$$"
      ],
      "metadata": {
        "id": "VqO0aqN2tnr5"
      }
    },
    {
      "cell_type": "markdown",
      "source": [
        "$$\n",
        "G = \\left\\{\\begin{array}\n",
        "1x_1 + 7x_2 +8x_3\\\\\n",
        "2x_1+2x_2 - 2x_3\\\\\n",
        "4x_1 + 6x_2 + 7x_3\n",
        "\\end{array}\\right.\n",
        "$$"
      ],
      "metadata": {
        "id": "wE7SdZzkWdrV"
      }
    },
    {
      "cell_type": "markdown",
      "source": [
        "4. Given the matrix below, display the output as a LaTeX markdown also express it as a system of linear combinations.\n"
      ],
      "metadata": {
        "id": "FsTJeTvaJCWw"
      }
    },
    {
      "cell_type": "code",
      "source": [
        "H = np.tril(G)\n",
        "H\n"
      ],
      "metadata": {
        "colab": {
          "base_uri": "https://localhost:8080/"
        },
        "id": "wu3l1O9tJG-z",
        "outputId": "ad14712e-3ea3-470b-ce02-c929d990ae49"
      },
      "execution_count": null,
      "outputs": [
        {
          "output_type": "execute_result",
          "data": {
            "text/plain": [
              "array([[1, 0, 0],\n",
              "       [2, 2, 0],\n",
              "       [4, 6, 7]])"
            ]
          },
          "metadata": {},
          "execution_count": 133
        }
      ]
    },
    {
      "cell_type": "markdown",
      "source": [
        ":$$\n",
        "H=\\begin{bmatrix} 1 & 0 & 0 \\\\ 2 & 2 & 0 \\\\ 4 & 6 & 7 \\end{bmatrix} \n",
        "$$"
      ],
      "metadata": {
        "id": "aqUbIPbRtugm"
      }
    },
    {
      "cell_type": "markdown",
      "source": [
        "$$\n",
        "H = \\left\\{\\begin{array}\n",
        "1x_1  \\\\\n",
        "2x_1+2x_2 \\\\\n",
        "4x_1 + 6x_2 + 7x_3\n",
        "\\end{array}\\right.\n",
        "$$"
      ],
      "metadata": {
        "id": "13oegm9_t3px"
      }
    },
    {
      "cell_type": "markdown",
      "source": [
        "## Matrix Algebra"
      ],
      "metadata": {
        "id": "YmXgCngbg7u8"
      }
    },
    {
      "cell_type": "markdown",
      "source": [
        "### Addition"
      ],
      "metadata": {
        "id": "6rRry5iThBlO"
      }
    },
    {
      "cell_type": "code",
      "source": [
        "J = np.array([\n",
        "    [0, 9],\n",
        "    [0, 8],\n",
        "    [0, 1]\n",
        "])\n",
        "RO = np.array([\n",
        "    [1, 0],\n",
        "    [0, 8],\n",
        "    [0, 2]\n",
        "])\n",
        "J+RO"
      ],
      "metadata": {
        "id": "cybd9qFvJNkB",
        "colab": {
          "base_uri": "https://localhost:8080/"
        },
        "outputId": "38b194ed-f958-4050-cf24-fa9fafcefced"
      },
      "execution_count": null,
      "outputs": [
        {
          "output_type": "execute_result",
          "data": {
            "text/plain": [
              "array([[ 1,  9],\n",
              "       [ 0, 16],\n",
              "       [ 0,  3]])"
            ]
          },
          "metadata": {},
          "execution_count": 26
        }
      ]
    },
    {
      "cell_type": "code",
      "source": [
        "3+J "
      ],
      "metadata": {
        "colab": {
          "base_uri": "https://localhost:8080/"
        },
        "id": "jjnqNA26hxnS",
        "outputId": "a09b9ea0-1b44-46fa-fd54-aeb3e264176e"
      },
      "execution_count": null,
      "outputs": [
        {
          "output_type": "execute_result",
          "data": {
            "text/plain": [
              "array([[ 3, 12],\n",
              "       [ 3, 11],\n",
              "       [ 3,  4]])"
            ]
          },
          "metadata": {},
          "execution_count": 29
        }
      ]
    },
    {
      "cell_type": "markdown",
      "source": [
        "### Subtraction"
      ],
      "metadata": {
        "id": "6LijSSkHiRfi"
      }
    },
    {
      "cell_type": "code",
      "source": [
        "RO - J"
      ],
      "metadata": {
        "colab": {
          "base_uri": "https://localhost:8080/"
        },
        "id": "_QT_3yOAiUwh",
        "outputId": "639e921b-e13a-4041-d427-dd73f0c9aee2"
      },
      "execution_count": null,
      "outputs": [
        {
          "output_type": "execute_result",
          "data": {
            "text/plain": [
              "array([[ 1, -9],\n",
              "       [ 0,  0],\n",
              "       [ 0,  1]])"
            ]
          },
          "metadata": {},
          "execution_count": 30
        }
      ]
    },
    {
      "cell_type": "code",
      "source": [
        "5-RO"
      ],
      "metadata": {
        "colab": {
          "base_uri": "https://localhost:8080/"
        },
        "id": "CBsiJ9byiboa",
        "outputId": "46b5d43a-21c5-46b2-f075-5cf6e0210706"
      },
      "execution_count": null,
      "outputs": [
        {
          "output_type": "execute_result",
          "data": {
            "text/plain": [
              "array([[ 4,  5],\n",
              "       [ 5, -3],\n",
              "       [ 5,  3]])"
            ]
          },
          "metadata": {},
          "execution_count": 31
        }
      ]
    },
    {
      "cell_type": "markdown",
      "source": [
        "### Element-wise Multiplication"
      ],
      "metadata": {
        "id": "dV67A5-DiixC"
      }
    },
    {
      "cell_type": "code",
      "source": [
        "J*RO\n",
        "np.multiply(J,RO)"
      ],
      "metadata": {
        "colab": {
          "base_uri": "https://localhost:8080/"
        },
        "id": "A3TdQNAIinnF",
        "outputId": "578092e4-6f08-472a-f6ad-59031d4df954"
      },
      "execution_count": null,
      "outputs": [
        {
          "output_type": "execute_result",
          "data": {
            "text/plain": [
              "array([[ 0,  0],\n",
              "       [ 0, 64],\n",
              "       [ 0,  2]])"
            ]
          },
          "metadata": {},
          "execution_count": 33
        }
      ]
    },
    {
      "cell_type": "code",
      "source": [
        "45*RO"
      ],
      "metadata": {
        "colab": {
          "base_uri": "https://localhost:8080/"
        },
        "id": "KhzsfSbbizG_",
        "outputId": "da09304c-dd2b-4236-9227-6684de876764"
      },
      "execution_count": null,
      "outputs": [
        {
          "output_type": "execute_result",
          "data": {
            "text/plain": [
              "array([[ 45,   0],\n",
              "       [  0, 360],\n",
              "       [  0,  90]])"
            ]
          },
          "metadata": {},
          "execution_count": 34
        }
      ]
    },
    {
      "cell_type": "code",
      "source": [
        "RO@J"
      ],
      "metadata": {
        "colab": {
          "base_uri": "https://localhost:8080/",
          "height": 183
        },
        "id": "X0Ztt5YHi-8x",
        "outputId": "323a1b9e-4e7e-424c-cb34-1198ca7d100f"
      },
      "execution_count": null,
      "outputs": [
        {
          "output_type": "error",
          "ename": "ValueError",
          "evalue": "ignored",
          "traceback": [
            "\u001b[0;31m---------------------------------------------------------------------------\u001b[0m",
            "\u001b[0;31mValueError\u001b[0m                                Traceback (most recent call last)",
            "\u001b[0;32m<ipython-input-35-6bca0bbbac1d>\u001b[0m in \u001b[0;36m<module>\u001b[0;34m()\u001b[0m\n\u001b[0;32m----> 1\u001b[0;31m \u001b[0mRO\u001b[0m\u001b[0;34m@\u001b[0m\u001b[0mJ\u001b[0m\u001b[0;34m\u001b[0m\u001b[0;34m\u001b[0m\u001b[0m\n\u001b[0m",
            "\u001b[0;31mValueError\u001b[0m: matmul: Input operand 1 has a mismatch in its core dimension 0, with gufunc signature (n?,k),(k,m?)->(n?,m?) (size 3 is different from 2)"
          ]
        }
      ]
    },
    {
      "cell_type": "code",
      "source": [
        "alpha=10**-10\n",
        "J/(alpha+RO)"
      ],
      "metadata": {
        "colab": {
          "base_uri": "https://localhost:8080/"
        },
        "id": "zJH5V3e5jC2B",
        "outputId": "4e226b70-e932-4da9-cf4f-d0e7ebdc3d49"
      },
      "execution_count": null,
      "outputs": [
        {
          "output_type": "execute_result",
          "data": {
            "text/plain": [
              "array([[0.e+00, 9.e+10],\n",
              "       [0.e+00, 1.e+00],\n",
              "       [0.e+00, 5.e-01]])"
            ]
          },
          "metadata": {},
          "execution_count": 37
        }
      ]
    },
    {
      "cell_type": "code",
      "source": [
        "np.add(RO,J)"
      ],
      "metadata": {
        "colab": {
          "base_uri": "https://localhost:8080/"
        },
        "id": "RAQ3U_UGja7X",
        "outputId": "7cfb15a3-b9f7-4922-e689-d36382d93025"
      },
      "execution_count": null,
      "outputs": [
        {
          "output_type": "execute_result",
          "data": {
            "text/plain": [
              "array([[ 1,  9],\n",
              "       [ 0, 16],\n",
              "       [ 0,  3]])"
            ]
          },
          "metadata": {},
          "execution_count": 38
        }
      ]
    },
    {
      "cell_type": "markdown",
      "source": [
        "### Activity"
      ],
      "metadata": {
        "id": "a9M56tSmkvC2"
      }
    },
    {
      "cell_type": "markdown",
      "source": [
        "####Task 1"
      ],
      "metadata": {
        "id": "ttkDcDWHkyqY"
      }
    },
    {
      "cell_type": "markdown",
      "source": [
        "Create a function named mat_desc() that througouhly describes a matrix, it should:\n",
        "\n",
        "1. Displays the shape, size, and rank of the matrix.\n",
        "2. Displays whether the matrix is square or non-square.\n",
        "3. Displays whether the matrix is an empty matrix.\n",
        "4. Displays if the matrix is an identity, ones, or zeros matrix\n",
        "\n",
        "Use 3 sample matrices in which their shapes are not lower than (3, 3).\n",
        "\n",
        "In your methodology, create a flowchart discuss the functions and methods you have done. \n",
        "\n",
        "Present your results in the results section showing the description of each matrix you have declared."
      ],
      "metadata": {
        "id": "D2qniSjgk2ND"
      }
    },
    {
      "cell_type": "code",
      "source": [
        "## Function area\n",
        "import numpy as np\n",
        "import matplotlib.pyplot as plt\n",
        "import scipy.linalg as la\n",
        "%matplotlib inline\n",
        "def mat_desc (matrix):\n",
        "  if matrix.size > 0:\n",
        "    if matrix.shape [0] == matrix.shape[1]:\n",
        "      s = \"Square.\"\n",
        "    else:\n",
        "      s = \"Non-square.\"\n",
        "    if np.all(matrix == np.identity(matrix.shape[0])):\n",
        "      sp = \"Identity Matrix.\"\n",
        "    elif np.all(matrix == np.zeros(matrix.shape)):\n",
        "      sp = \"Zero Matrix.\"\n",
        "    elif np.all(matrix == np.ones(matrix.shape)):\n",
        "      sp = \"Ones Matrix.\"\n",
        "    else:\n",
        "      sp = \"None.\"\n",
        "    print(f'Matrix:\\n{matrix}\\n\\nShape:\\t{matrix.shape}\\nRank:\\t{matrix.ndim}\\nSquare?: {s}\\nSpecial Characteristics: {sp}') \n",
        "  else:\n",
        "    print('Matrix is Empty')"
      ],
      "metadata": {
        "id": "JHKwFMsvlEpb"
      },
      "execution_count": null,
      "outputs": []
    },
    {
      "cell_type": "code",
      "source": [
        "## Matrix declarations\n",
        "hi = np.array([\n",
        "    [3,1,2,4],\n",
        "    [4,7,9,6],\n",
        "    [9,1,6,7]\n",
        "])\n",
        "one = np.array([\n",
        "    [1,1,1,1,1],\n",
        "    [1,1,1,1,1],\n",
        "    [1,1,1,1,1],\n",
        "    [1,1,1,1,1],\n",
        "])\n",
        "id = np.array([\n",
        "    [1,0,0,0],\n",
        "    [0,1,0,0],\n",
        "    [0,0,1,0],\n",
        "    [0,0,0,1]\n",
        "])"
      ],
      "metadata": {
        "id": "gCgvVzMblJ9l"
      },
      "execution_count": null,
      "outputs": []
    },
    {
      "cell_type": "code",
      "source": [
        "## Test Areas"
      ],
      "metadata": {
        "id": "t8l1pe1llOmq"
      },
      "execution_count": null,
      "outputs": []
    },
    {
      "cell_type": "code",
      "source": [
        "mat_desc(hi)"
      ],
      "metadata": {
        "id": "yh6g_JlmuXXO",
        "colab": {
          "base_uri": "https://localhost:8080/"
        },
        "outputId": "81ff225f-721d-4a81-cfb9-63b6829bb54e"
      },
      "execution_count": null,
      "outputs": [
        {
          "output_type": "stream",
          "name": "stdout",
          "text": [
            "Matrix:\n",
            "[[3 1 2 4]\n",
            " [4 7 9 6]\n",
            " [9 1 6 7]]\n",
            "\n",
            "Shape:\t(3, 4)\n",
            "Rank:\t2\n",
            "Square?: Non-square.\n",
            "Special Characteristics: None.\n"
          ]
        },
        {
          "output_type": "stream",
          "name": "stderr",
          "text": [
            "/usr/local/lib/python3.7/dist-packages/ipykernel_launcher.py:12: DeprecationWarning: elementwise comparison failed; this will raise an error in the future.\n",
            "  if sys.path[0] == '':\n"
          ]
        }
      ]
    },
    {
      "cell_type": "code",
      "source": [
        "mat_desc(one)"
      ],
      "metadata": {
        "colab": {
          "base_uri": "https://localhost:8080/"
        },
        "id": "yebbrnfqubga",
        "outputId": "daf1236d-cc26-454a-a8f8-b1a8914e5f84"
      },
      "execution_count": null,
      "outputs": [
        {
          "output_type": "stream",
          "name": "stdout",
          "text": [
            "Matrix:\n",
            "[[1 1 1 1 1]\n",
            " [1 1 1 1 1]\n",
            " [1 1 1 1 1]\n",
            " [1 1 1 1 1]]\n",
            "\n",
            "Shape:\t(4, 5)\n",
            "Rank:\t2\n",
            "Square?: Non-square.\n",
            "Special Characteristics: Ones Matrix.\n"
          ]
        },
        {
          "output_type": "stream",
          "name": "stderr",
          "text": [
            "/usr/local/lib/python3.7/dist-packages/ipykernel_launcher.py:12: DeprecationWarning: elementwise comparison failed; this will raise an error in the future.\n",
            "  if sys.path[0] == '':\n"
          ]
        }
      ]
    },
    {
      "cell_type": "code",
      "source": [
        "mat_desc(id)"
      ],
      "metadata": {
        "colab": {
          "base_uri": "https://localhost:8080/"
        },
        "id": "bgDO6d_Ta_us",
        "outputId": "ebfdf92b-c4c3-4b4c-aa19-36085635ecb6"
      },
      "execution_count": null,
      "outputs": [
        {
          "output_type": "stream",
          "name": "stdout",
          "text": [
            "Matrix:\n",
            "[[1 0 0 0]\n",
            " [0 1 0 0]\n",
            " [0 0 1 0]\n",
            " [0 0 0 1]]\n",
            "\n",
            "Shape:\t(4, 4)\n",
            "Rank:\t2\n",
            "Square?: Square.\n",
            "Special Characteristics: Identity Matrix.\n"
          ]
        }
      ]
    },
    {
      "cell_type": "markdown",
      "source": [
        "#### Task 2"
      ],
      "metadata": {
        "id": "Qazorc0jlTEm"
      }
    },
    {
      "cell_type": "markdown",
      "source": [
        "Create a function named `mat_operations()` that takes in two matrices and input parameters it should:<br>\n",
        " 1. Determine if the matrices are viable for operation and returns your own error message if they are not viable.\n",
        " 2. Returns the sum of the matrices.\n",
        " 3. Returns the difference of the matrices.\n",
        " 4. Returns the element-wise multiplication of the matrices.\n",
        " 5. Returns the element-wise division of the matrices.\n",
        "\n",
        "Use 3 sample matrices in which their shapes are not lower than $(3,3)$.\n",
        "In your methodology, create a flowchart discuss the functions and methods you have done. Present your results in the results section showing the description of each matrix you have declared."
      ],
      "metadata": {
        "id": "FZqv3aADleQf"
      }
    },
    {
      "cell_type": "code",
      "source": [
        "# Function Area\n",
        "import numpy as np\n",
        "import matplotlib.pyplot as plt\n",
        "import scipy.linalg as la\n",
        "%matplotlib inline\n",
        "def mat_operations(matA, matB):\n",
        "  op = input(\"Enter operation(+,-,*,/): \")\n",
        "  if matA.shape == matB.shape:\n",
        "    # proceed to operations\n",
        "    if op == '+':\n",
        "      return matA + matB\n",
        "    elif op == '-':\n",
        "      return matA - matB\n",
        "    elif op == '*':\n",
        "      return matA * matB\n",
        "    elif op == '/':\n",
        "      return matA / matB\n",
        "    else:\n",
        "      print(\"The matrices are viable but you have not inputted a correct operation.\")\n",
        "  else:\n",
        "    print(\"Huhuhu.The matrices are not viable.\")"
      ],
      "metadata": {
        "id": "6lF9b8zqlhyD"
      },
      "execution_count": null,
      "outputs": []
    },
    {
      "cell_type": "code",
      "source": [
        "#matrix declarations\n",
        "A = np.array([\n",
        "    [1,1,1,1],\n",
        "    [1,1,1,1],  \n",
        "    [1,1,1,1],\n",
        "    [1,1,1,1]\n",
        "])\n",
        "B = np.array([\n",
        "    [2,2,2,2],\n",
        "    [2,2,2,2],\n",
        "    [2,2,2,2],\n",
        "    [2,2,2,2],\n",
        "])\n",
        "C = np.array([\n",
        "    [3,3,3,3,3],\n",
        "    [3,3,3,3,3],\n",
        "    [3,3,3,3,3]\n",
        "])\n",
        "D = np.array([\n",
        "    [4,4,4,4,4],\n",
        "    [4,4,4,4,4],\n",
        "    [4,4,4,4,4]\n",
        "])"
      ],
      "metadata": {
        "id": "Ag1csfjGiIvj"
      },
      "execution_count": null,
      "outputs": []
    },
    {
      "cell_type": "code",
      "source": [
        "mat_operations(A,C)"
      ],
      "metadata": {
        "id": "bI2L86X0liQu",
        "colab": {
          "base_uri": "https://localhost:8080/"
        },
        "outputId": "7499ab7e-6846-416e-ea4a-f33e6512aeae"
      },
      "execution_count": null,
      "outputs": [
        {
          "output_type": "stream",
          "name": "stdout",
          "text": [
            "Enter operation(+,-,*,/): /\n",
            "Huhuhu.The matrices are not viable.\n"
          ]
        }
      ]
    },
    {
      "cell_type": "code",
      "source": [
        "mat_operations(D, C)"
      ],
      "metadata": {
        "id": "txF6ZHHnlizq",
        "colab": {
          "base_uri": "https://localhost:8080/"
        },
        "outputId": "d7dd9d8a-b56f-4e08-acd1-ce32be87f65a"
      },
      "execution_count": null,
      "outputs": [
        {
          "name": "stdout",
          "output_type": "stream",
          "text": [
            "Enter operation(+,-,*,/): /\n"
          ]
        },
        {
          "output_type": "execute_result",
          "data": {
            "text/plain": [
              "array([[1.33333333, 1.33333333, 1.33333333, 1.33333333, 1.33333333],\n",
              "       [1.33333333, 1.33333333, 1.33333333, 1.33333333, 1.33333333],\n",
              "       [1.33333333, 1.33333333, 1.33333333, 1.33333333, 1.33333333]])"
            ]
          },
          "metadata": {},
          "execution_count": 28
        }
      ]
    },
    {
      "cell_type": "code",
      "source": [
        "mat_operations(A,B)"
      ],
      "metadata": {
        "colab": {
          "base_uri": "https://localhost:8080/"
        },
        "id": "mgKdPxYDql1g",
        "outputId": "db834060-afa8-4f4e-b3ca-dbbb0178d212"
      },
      "execution_count": null,
      "outputs": [
        {
          "name": "stdout",
          "output_type": "stream",
          "text": [
            "Enter operation(+,-,*,/): -\n"
          ]
        },
        {
          "output_type": "execute_result",
          "data": {
            "text/plain": [
              "array([[-1, -1, -1, -1],\n",
              "       [-1, -1, -1, -1],\n",
              "       [-1, -1, -1, -1],\n",
              "       [-1, -1, -1, -1]])"
            ]
          },
          "metadata": {},
          "execution_count": 27
        }
      ]
    },
    {
      "cell_type": "markdown",
      "source": [
        "### Conclusion"
      ],
      "metadata": {
        "id": "bluJ9bHZlj4s"
      }
    },
    {
      "cell_type": "markdown",
      "source": [
        "For your conclusion synthesize the concept and application of the laboratory. Briefly discuss what you have learned and achieved in this activity. Also answer the question: \"How can matrix operations solve problems in technology?\"."
      ],
      "metadata": {
        "id": "AyL9zzKtmL50"
      }
    }
  ]
}