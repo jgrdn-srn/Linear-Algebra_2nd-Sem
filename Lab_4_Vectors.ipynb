{
  "nbformat": 4,
  "nbformat_minor": 0,
  "metadata": {
    "colab": {
      "name": "Lab 4 Vectors.ipynb",
      "provenance": [],
      "collapsed_sections": [],
      "authorship_tag": "ABX9TyOQcp8WstCxumMQyUbq+lNX",
      "include_colab_link": true
    },
    "kernelspec": {
      "name": "python3",
      "display_name": "Python 3"
    },
    "language_info": {
      "name": "python"
    }
  },
  "cells": [
    {
      "cell_type": "markdown",
      "metadata": {
        "id": "view-in-github",
        "colab_type": "text"
      },
      "source": [
        "<a href=\"https://colab.research.google.com/github/jgrdn-srn/Linear-Algebra_2nd-Sem/blob/main/Lab_4_Vectors.ipynb\" target=\"_parent\"><img src=\"https://colab.research.google.com/assets/colab-badge.svg\" alt=\"Open In Colab\"/></a>"
      ]
    },
    {
      "cell_type": "markdown",
      "source": [
        "# Lab 4 - Plotting Vector using NumPy and MatPlotLib"
      ],
      "metadata": {
        "id": "Zfjujbi-ZZ9S"
      }
    },
    {
      "cell_type": "markdown",
      "source": [
        "In this laboratory we will be discussing the basics of numerical and scientific programming by working with Vectors using NumPy and MatPlotLib."
      ],
      "metadata": {
        "id": "WlUcIRfTZcLb"
      }
    },
    {
      "cell_type": "markdown",
      "source": [
        "### Objectives\n",
        "At the end of this activity you will be able to:\n",
        "1. Be familiar with the libraries in Python for numerical and scientific programming.\n",
        "2. Visualize vectors through Python programming.\n",
        "3. Perform simple vector operations through code."
      ],
      "metadata": {
        "id": "wDkY_a22Zg5S"
      }
    },
    {
      "cell_type": "markdown",
      "source": [
        "## Discussion"
      ],
      "metadata": {
        "id": "Z96lfKrWZjur"
      }
    },
    {
      "cell_type": "markdown",
      "source": [
        "### NumPy"
      ],
      "metadata": {
        "id": "6htGNsL9ZnxE"
      }
    },
    {
      "cell_type": "markdown",
      "source": [
        "NumPy or Numerical Python, is mainly used for matrix and vector operations. It is capable of declaring computing and representing matrices. Most Python scientific programming libraries uses NumPy as the basic code."
      ],
      "metadata": {
        "id": "rvqPkIPmZtxP"
      }
    },
    {
      "cell_type": "markdown",
      "source": [
        "Scalars \\\\\n",
        "Represent magnitude or a single value\n",
        "\n",
        "Vectors \\\\\n",
        "Represent magnitude with directors"
      ],
      "metadata": {
        "id": "6LwLKxo0ZxaS"
      }
    },
    {
      "cell_type": "markdown",
      "source": [
        "#### Representing Vectors"
      ],
      "metadata": {
        "id": "WiX8vpEjqEtc"
      }
    },
    {
      "cell_type": "markdown",
      "source": [
        "Now that you know how to represent vectors using their component and matrix form we can now hard-code them in Python. Let's say that you have the vectors:"
      ],
      "metadata": {
        "id": "8xnDvLipqFx6"
      }
    },
    {
      "cell_type": "markdown",
      "source": [
        "$$ A = 8\\hat{x} + 9\\hat{y} \\\\\n",
        "B = 10\\hat{x} - 8\\hat{y}\\\\\n",
        "C = 11ax + 18ay - 21az \\\\\n",
        "D = 10\\hat{i} - 24\\hat{j} + 21\\hat{k}$$"
      ],
      "metadata": {
        "id": "5Y05hY2wqIYz"
      }
    },
    {
      "cell_type": "markdown",
      "source": [
        "In which it's matrix equivalent is:"
      ],
      "metadata": {
        "id": "q_U1RI3JqLXr"
      }
    },
    {
      "cell_type": "markdown",
      "source": [
        "$$ A = \\begin{bmatrix} 8 \\\\ 9\\end{bmatrix} , B = \\begin{bmatrix} 10 \\\\ -8\\end{bmatrix} , C = \\begin{bmatrix} 1 \\\\ 18 \\\\  -21 \\end{bmatrix}, D = \\begin{bmatrix} 10 \\\\ -24 \\\\ 21\\end{bmatrix}\n",
        "$$\n",
        "$$ A = \\begin{bmatrix} 8 & 9\\end{bmatrix} , B = \\begin{bmatrix} 10 & -8\\end{bmatrix} , C = \\begin{bmatrix} 11 & 18 & -21\\end{bmatrix} , D = \\begin{bmatrix} 10 & -24 & 21\\end{bmatrix} \n",
        "$$"
      ],
      "metadata": {
        "id": "NJP-UoI1qODG"
      }
    },
    {
      "cell_type": "markdown",
      "source": [
        "We can then start doing numpy code with this by:"
      ],
      "metadata": {
        "id": "VGJluSKlqQms"
      }
    },
    {
      "cell_type": "code",
      "source": [
        "## Importing necessary libraries\n",
        "import numpy as np ## 'np' here is short-hand name of the library (numpy) or a nickname."
      ],
      "metadata": {
        "id": "m7ZGlmdgZzkb"
      },
      "execution_count": null,
      "outputs": []
    },
    {
      "cell_type": "code",
      "source": [
        "A = np.array([8, 9])\n",
        "B = np.array([10, -8])\n",
        "C = np.array([\n",
        "              [11],\n",
        "              [18],\n",
        "              [-21]\n",
        "])\n",
        "D = np.array ([[10],\n",
        "              [-24],\n",
        "              [21]])\n",
        "print('Vector A is ', A)\n",
        "print('Vector B is ', B)\n",
        "print('Vector C is ', C)\n",
        "print('Vector D is ', D)"
      ],
      "metadata": {
        "colab": {
          "base_uri": "https://localhost:8080/"
        },
        "id": "RS0shrH2Z3A5",
        "outputId": "a6948d55-cacc-4ab5-a10a-096087c75103"
      },
      "execution_count": null,
      "outputs": [
        {
          "output_type": "stream",
          "name": "stdout",
          "text": [
            "Vector A is  [8 9]\n",
            "Vector B is  [10 -8]\n",
            "Vector C is  [[ 11]\n",
            " [ 18]\n",
            " [-21]]\n",
            "Vector D is  [[ 10]\n",
            " [-24]\n",
            " [ 21]]\n"
          ]
        }
      ]
    },
    {
      "cell_type": "markdown",
      "source": [
        "#### Describing vectors in NumPy"
      ],
      "metadata": {
        "id": "9HVE2XAsqUqK"
      }
    },
    {
      "cell_type": "markdown",
      "source": [
        "Describing vectors is very important if we want to perform basic to advanced operations with them. The fundamental ways in describing vectors are knowing their shape, size and dimensions."
      ],
      "metadata": {
        "id": "mVrp5JHHqX7C"
      }
    },
    {
      "cell_type": "code",
      "source": [
        "### Checking shapes\n",
        "### Shapes tells us how many elements are there on each row and column\n",
        "print('shape of A is', A.shape)\n",
        "H = np.array([10,6, 22, 7, -0.23, 4])\n",
        "print('shape of H is', H.shape)\n",
        "print('shape of C is', C.shape)"
      ],
      "metadata": {
        "colab": {
          "base_uri": "https://localhost:8080/"
        },
        "id": "cvJwVphLaTMS",
        "outputId": "9420127c-4c33-4f95-8085-980260cd1387"
      },
      "execution_count": null,
      "outputs": [
        {
          "output_type": "stream",
          "name": "stdout",
          "text": [
            "shape of A is (2,)\n",
            "shape of H is (6,)\n",
            "shape of C is (3, 1)\n"
          ]
        }
      ]
    },
    {
      "cell_type": "code",
      "source": [
        "### Checking size\n",
        "### Array/Vector sizes tells us many total number of elements are there in the vector\n",
        "print('size of of D is', D.size)\n",
        "print('size of of A is', A.size)"
      ],
      "metadata": {
        "colab": {
          "base_uri": "https://localhost:8080/"
        },
        "id": "PqPcKgatqZm8",
        "outputId": "3526eba0-edfa-4f49-c0b8-32b33e8dee98"
      },
      "execution_count": null,
      "outputs": [
        {
          "output_type": "stream",
          "name": "stdout",
          "text": [
            "size of of D is 3\n",
            "size of of A is 2\n"
          ]
        }
      ]
    },
    {
      "cell_type": "code",
      "source": [
        "### Checking dimensions\n",
        "### The dimensions or rank of a vector tells us how many dimensions are there for the vector.\n",
        "print('dimension of D is',D.ndim)\n",
        "print('dimension of A is',A.ndim)"
      ],
      "metadata": {
        "colab": {
          "base_uri": "https://localhost:8080/"
        },
        "id": "RluTWh3-qd6l",
        "outputId": "66dc7351-314f-43c5-ab9c-ac049cc3c8b4"
      },
      "execution_count": null,
      "outputs": [
        {
          "output_type": "stream",
          "name": "stdout",
          "text": [
            "dimension of D is 2\n",
            "dimension of A is 1\n"
          ]
        }
      ]
    },
    {
      "cell_type": "markdown",
      "source": [
        "Great! Now let's try to explore in performing operations with these vectors."
      ],
      "metadata": {
        "id": "6rLEn05uqgJj"
      }
    },
    {
      "cell_type": "markdown",
      "source": [
        "#### Addition"
      ],
      "metadata": {
        "id": "JtKhLFakqiPV"
      }
    },
    {
      "cell_type": "markdown",
      "source": [
        "The addition rule is simple, the we just need to add the elements of the matrices according to their index. So in this case if we add vector $A$ and vector $B$ we will have a resulting vector:"
      ],
      "metadata": {
        "id": "Ic9EoH5cqv3v"
      }
    },
    {
      "cell_type": "markdown",
      "source": [
        "$$R = 18\\hat{x} + \\hat{y} \\\\ \\\\or \\\\ \\\\ R = \\begin{bmatrix} 18 \\\\ 1\\end{bmatrix} $$ "
      ],
      "metadata": {
        "id": "PG24Av0Kqx-T"
      }
    },
    {
      "cell_type": "markdown",
      "source": [
        "So let's try to do that in NumPy in several number of ways:"
      ],
      "metadata": {
        "id": "WKWjkBpnq01L"
      }
    },
    {
      "cell_type": "code",
      "source": [
        "R = np.add(A, B) ## this is the functional method usisng the numpy library\n",
        "P = np.add(C, D)\n",
        "print('R is', R, '\\nP is', P)"
      ],
      "metadata": {
        "id": "jkIUlFAXq4Ux",
        "colab": {
          "base_uri": "https://localhost:8080/"
        },
        "outputId": "e7507f52-1240-472a-a105-d4ff8b6bba18"
      },
      "execution_count": null,
      "outputs": [
        {
          "output_type": "stream",
          "name": "stdout",
          "text": [
            "R is [18  1] \n",
            "P is [[21]\n",
            " [-6]\n",
            " [ 0]]\n"
          ]
        }
      ]
    },
    {
      "cell_type": "code",
      "source": [
        "R = A+B\n",
        "R"
      ],
      "metadata": {
        "colab": {
          "base_uri": "https://localhost:8080/"
        },
        "id": "pgXGXZzv3Fgz",
        "outputId": "8091a0fd-aca3-46d9-e6f1-27ff7404fa29"
      },
      "execution_count": null,
      "outputs": [
        {
          "output_type": "execute_result",
          "data": {
            "text/plain": [
              "array([18,  1])"
            ]
          },
          "metadata": {},
          "execution_count": 120
        }
      ]
    },
    {
      "cell_type": "code",
      "source": [
        "j1 = np.array([1,1,1])\n",
        "j2 = np.array([0,1,2])\n",
        "j3 = np.array([1,-2,-1])\n",
        "j4 = np.array([1,-2,0])\n",
        "n1 = j1 + j2 + j3 + j4\n",
        "n2 = np.multiply(j3, j4)\n",
        "n3 = j4 / j3\n",
        "n4 = j1 - j2 - j3 -j4\n",
        "print('n1 is', n1, '\\nn2 is', n2,'\\nn3 is', n3,'\\nn4 is', n4,)"
      ],
      "metadata": {
        "colab": {
          "base_uri": "https://localhost:8080/"
        },
        "id": "5CCRaSwuq4-y",
        "outputId": "d8083912-cb20-41ca-998b-59007831ace7"
      },
      "execution_count": null,
      "outputs": [
        {
          "output_type": "stream",
          "name": "stdout",
          "text": [
            "n1 is [ 3 -2  2] \n",
            "n2 is [1 4 0] \n",
            "n3 is [ 1.  1. -0.] \n",
            "n4 is [-1  4  0]\n"
          ]
        }
      ]
    },
    {
      "cell_type": "markdown",
      "source": [
        "##### Try for yourself!"
      ],
      "metadata": {
        "id": "Vped-rGDq8za"
      }
    },
    {
      "cell_type": "markdown",
      "source": [
        "Try to implement subtraction, multiplication, and division with vectors $A$ and $B$!"
      ],
      "metadata": {
        "id": "E6AQ4_eEq_6M"
      }
    },
    {
      "cell_type": "code",
      "source": [
        "### Try out you code here! \n",
        "sum = np.add(A,B)\n",
        "diff = np.subtract(A,B)\n",
        "prod = np.multiply(A,B)\n",
        "quo = np.divide(A,B)\n",
        "print('For A and B the answers to different operations are below \\nsum is', sum, '\\ndifference is', diff, '\\nproduct is', prod, '\\nquotient is', quo)"
      ],
      "metadata": {
        "id": "fb1sQEwirGX9",
        "colab": {
          "base_uri": "https://localhost:8080/"
        },
        "outputId": "22843219-96f5-4dd9-aa78-d285ab1c8e4c"
      },
      "execution_count": null,
      "outputs": [
        {
          "output_type": "stream",
          "name": "stdout",
          "text": [
            "For A and B the answers to different operations are below \n",
            "sum is [18  1] \n",
            "difference is [-2 17] \n",
            "product is [ 80 -72] \n",
            "quotient is [ 0.8   -1.125]\n"
          ]
        }
      ]
    },
    {
      "cell_type": "markdown",
      "source": [
        "### Scaling"
      ],
      "metadata": {
        "id": "YmfXX8_XrIxb"
      }
    },
    {
      "cell_type": "markdown",
      "source": [
        "Scaling or scalar multiplication takes a scalar value and performs multiplication with a vector. Let's take the example below:"
      ],
      "metadata": {
        "id": "E1rkuckNrV6M"
      }
    },
    {
      "cell_type": "markdown",
      "source": [
        "$$S = 17 \\cdot A$$"
      ],
      "metadata": {
        "id": "l8RzedkSrjoJ"
      }
    },
    {
      "cell_type": "markdown",
      "source": [
        "We can do this in numpy through:"
      ],
      "metadata": {
        "id": "zmDFeDzvrlqz"
      }
    },
    {
      "cell_type": "code",
      "source": [
        "S = 17 * A\n",
        "S"
      ],
      "metadata": {
        "colab": {
          "base_uri": "https://localhost:8080/"
        },
        "id": "nCWLUr_1rolh",
        "outputId": "27c8432f-bc80-417c-9422-3eaf688e6218"
      },
      "execution_count": null,
      "outputs": [
        {
          "output_type": "execute_result",
          "data": {
            "text/plain": [
              "array([136, 153])"
            ]
          },
          "metadata": {},
          "execution_count": 123
        }
      ]
    },
    {
      "cell_type": "markdown",
      "source": [
        "Try to implement scaling with two vectors."
      ],
      "metadata": {
        "id": "zOiCeHMwrr4v"
      }
    },
    {
      "cell_type": "code",
      "source": [
        "rhyth = np.multiply(8, C)\n",
        "dana = 8*D\n",
        "print(rhyth)\n",
        "print(dana)"
      ],
      "metadata": {
        "colab": {
          "base_uri": "https://localhost:8080/"
        },
        "id": "G-5Bz16VAOVg",
        "outputId": "00690abf-40b2-49e1-d183-3e85bc3704c6"
      },
      "execution_count": null,
      "outputs": [
        {
          "output_type": "stream",
          "name": "stdout",
          "text": [
            "[[  88]\n",
            " [ 144]\n",
            " [-168]]\n",
            "[[  80]\n",
            " [-192]\n",
            " [ 168]]\n"
          ]
        }
      ]
    },
    {
      "cell_type": "markdown",
      "source": [
        "### MatPlotLib"
      ],
      "metadata": {
        "id": "GKvUAc3Mrvay"
      }
    },
    {
      "cell_type": "markdown",
      "source": [
        "MatPlotLib or MATLab Plotting library is Python's take on MATLabs plotting feature. MatPlotLib can be used vastly from graping values to visualizing several dimensions of data."
      ],
      "metadata": {
        "id": "SPxayFukryMq"
      }
    },
    {
      "cell_type": "markdown",
      "source": [
        "#### Visualizing Data"
      ],
      "metadata": {
        "id": "P90BC9M2r090"
      }
    },
    {
      "cell_type": "markdown",
      "source": [
        "It's not enough just solving these vectors so might need to visualize them. So we'll use MatPlotLib for that. We'll need to import it first."
      ],
      "metadata": {
        "id": "2qKnaq3br5Ez"
      }
    },
    {
      "cell_type": "code",
      "source": [
        "import matplotlib.pyplot as plt\n",
        "import matplotlib\n",
        "%matplotlib inline"
      ],
      "metadata": {
        "id": "mWuZIZt9r9Kp"
      },
      "execution_count": null,
      "outputs": []
    },
    {
      "cell_type": "code",
      "source": [
        "O = [1, 8]\n",
        "P = [0, -1]\n",
        "plt.scatter(O[0], O[1], label='O', c='green')\n",
        "plt.scatter(P[0], P[1], label='P', c='magenta')\n",
        "plt.grid()\n",
        "plt.legend()\n",
        "plt.show()"
      ],
      "metadata": {
        "colab": {
          "base_uri": "https://localhost:8080/",
          "height": 265
        },
        "id": "dhYkDgATsASj",
        "outputId": "c9dc7311-95d9-4319-b9bb-0df95bdf3898"
      },
      "execution_count": null,
      "outputs": [
        {
          "output_type": "display_data",
          "data": {
            "text/plain": [
              "<Figure size 432x288 with 1 Axes>"
            ],
            "image/png": "[encoded data removed]"
          },
          "metadata": {
            "needs_background": "light"
          }
        }
      ]
    },
    {
      "cell_type": "code",
      "source": [
        "nyx = np.array([1, 0])\n",
        "dan = np.array([1, -4])\n",
        "dannyx = nyx + dan\n",
        "Magnitude = np.sqrt(np.sum(dannyx**2))\n",
        "plt.title(\"Resultant Vector\\nMagnitude:{}\" .format(Magnitude))\n",
        "plt.xlim(-6, 6)\n",
        "plt.ylim(-6, 6)\n",
        "plt.quiver(0, 0, nyx[0], nyx[1], angles='xy', scale_units='xy', scale=1, color='red')\n",
        "plt.quiver(nyx[0], nyx[1], dan[0], dan[1], angles='xy', scale_units='xy', scale=1, color='green')\n",
        "plt.quiver(0, 0, dannyx[0], dannyx[1], angles='xy', scale_units='xy', scale=1, color='black')\n",
        "plt.grid()\n",
        "plt.show()\n",
        "print(dannyx)\n",
        "print(Magnitude)\n",
        "Slope = R[1]/R[0]\n",
        "print(Slope)\n",
        "Angle = (np.arctan(Slope))*(180/np.pi)\n",
        "print(Angle)"
      ],
      "metadata": {
        "colab": {
          "base_uri": "https://localhost:8080/",
          "height": 365
        },
        "id": "xl99CmnXsETU",
        "outputId": "beb653a2-2e1b-418d-de40-881eca3bf07c"
      },
      "execution_count": null,
      "outputs": [
        {
          "output_type": "display_data",
          "data": {
            "text/plain": [
              "<Figure size 432x288 with 1 Axes>"
            ],
            "image/png": "[encoded data removed]"
          },
          "metadata": {
            "needs_background": "light"
          }
        },
        {
          "output_type": "stream",
          "name": "stdout",
          "text": [
            "[ 2 -4]\n",
            "4.47213595499958\n",
            "0.05555555555555555\n",
            "3.1798301198642345\n"
          ]
        }
      ]
    },
    {
      "cell_type": "code",
      "source": [
        "n = A.shape[0]\n",
        "plt.xlim(-7, 7)\n",
        "plt.ylim(-7, 7)\n",
        "plt.quiver(0,0, dan[0], dan[1], angles='xy', scale_units='xy',scale=1)\n",
        "plt.quiver(dan[0],dan[1], nyx[0], nyx[1], angles='xy', scale_units='xy',scale=1)\n",
        "plt.quiver(0,0, dannyx[0], dannyx[1], angles='xy', scale_units='xy',scale=1)\n",
        "plt.show()"
      ],
      "metadata": {
        "colab": {
          "base_uri": "https://localhost:8080/",
          "height": 265
        },
        "id": "bi7-MfBEsKsf",
        "outputId": "f427a75d-8e43-4d21-8186-d2dc452b5f3c"
      },
      "execution_count": null,
      "outputs": [
        {
          "output_type": "display_data",
          "data": {
            "text/plain": [
              "<Figure size 432x288 with 1 Axes>"
            ],
            "image/png": "[encoded data removed]"
          },
          "metadata": {
            "needs_background": "light"
          }
        }
      ]
    },
    {
      "cell_type": "markdown",
      "source": [
        "Try plotting Three Vectors and show the Resultant Vector as a result.\n",
        "Use Head to Tail Method."
      ],
      "metadata": {
        "id": "nEGBjn9ksNe5"
      }
    },
    {
      "cell_type": "code",
      "source": [
        "N = np.array([1, 1])\n",
        "Y = np.array([1, -4])\n",
        "X = np.array([-3,2])\n",
        "R1 = N + Y + X\n",
        "Magnitude = np.sqrt(np.sum(R1**2))\n",
        "plt.title(\"Resultant Vector\\nMagnitude:{}\" .format(Magnitude))\n",
        "plt.xlim(-6, 6)\n",
        "plt.ylim(-6, 6)\n",
        "plt.quiver(0, 0, N[0], N[1], angles='xy', scale_units='xy', scale=1, color='red')\n",
        "plt.quiver(N[0], N[1], Y[0], Y[1], angles='xy', scale_units='xy', scale=1, color='green')\n",
        "plt.quiver(2, -3, X[0], X[1], angles='xy', scale_units='xy', scale=1, color='blue')\n",
        "plt.quiver(0, 0, R1[0], R1[1], angles='xy', scale_units='xy', scale=1, color='black')\n",
        "plt.grid()\n",
        "plt.show()\n",
        "print(R1)\n",
        "print(Magnitude)\n",
        "Slope = R[1]/R[0]\n",
        "print(Slope)\n",
        "Angle = (np.arctan(Slope))*(180/np.pi)\n",
        "print(Angle)"
      ],
      "metadata": {
        "id": "XspFMIJcsPKm",
        "colab": {
          "base_uri": "https://localhost:8080/",
          "height": 365
        },
        "outputId": "862a5478-48e7-4b2d-eda2-267287c128df"
      },
      "execution_count": null,
      "outputs": [
        {
          "output_type": "display_data",
          "data": {
            "text/plain": [
              "<Figure size 432x288 with 1 Axes>"
            ],
            "image/png": "[encoded data removed]"
          },
          "metadata": {
            "needs_background": "light"
          }
        },
        {
          "output_type": "stream",
          "name": "stdout",
          "text": [
            "[-1 -1]\n",
            "1.4142135623730951\n",
            "0.05555555555555555\n",
            "3.1798301198642345\n"
          ]
        }
      ]
    }
  ]
}